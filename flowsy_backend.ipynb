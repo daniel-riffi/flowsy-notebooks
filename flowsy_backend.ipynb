{
 "cells": [
  {
   "cell_type": "code",
   "execution_count": null,
   "metadata": {},
   "outputs": [],
   "source": [
    "from flask import Flask\n",
    "from flask_cors import CORS\n",
    "from flask import request\n",
    "import json\n",
    "import pandas as pd\n",
    "import pathlib\n",
    "import heapq\n",
    "import configparser\n",
    "\n",
    "import requests\n",
    "from datetime import timedelta\n",
    "import base64\n",
    "from urllib.parse import urlencode\n",
    "\n",
    "from fastai.collab import *\n",
    "from fastai.tabular.all import *\n",
    "\n",
    "from flowsy.core import *"
   ]
  },
  {
   "cell_type": "code",
   "execution_count": 7,
   "metadata": {},
   "outputs": [],
   "source": [
    "config = configparser.ConfigParser()\n",
    "config.read('secrets.ini')\n",
    "client_id = config['secrets']['client_id']\n",
    "client_secret = config['secrets']['client_secret']"
   ]
  },
  {
   "cell_type": "code",
   "execution_count": 8,
   "metadata": {},
   "outputs": [],
   "source": [
    "class SpotifyAPI(object):\n",
    "    access_token = None\n",
    "    access_token_expires = datetime.now()\n",
    "    access_token_did_expire = True\n",
    "    client_id = None\n",
    "    client_secret = None\n",
    "    token_url = 'https://accounts.spotify.com/api/token'\n",
    "    \n",
    "    def __init__(self, client_id, client_secret, *args, **kwargs):\n",
    "        super().__init__(*args, **kwargs)\n",
    "        self.client_id = client_id\n",
    "        self.client_secret = client_secret\n",
    "    \n",
    "    def get_client_credentials(self):\n",
    "        client_id = self.client_id\n",
    "        client_secret = self.client_secret\n",
    "        if client_secret == None or client_id == None:\n",
    "            raise Exception('You must set client_id and client_secret')\n",
    "        client_creds = f'{client_id}:{client_secret}'\n",
    "        client_creds_b64 = base64.b64encode(client_creds.encode())\n",
    "        return client_creds_b64.decode()\n",
    "    \n",
    "    def get_token_headers(self):\n",
    "        client_creds_b64 = self.get_client_credentials()\n",
    "        return {\n",
    "            'Authorization': f'Basic {client_creds_b64}'\n",
    "        }\n",
    "    \n",
    "    def get_token_data(self):\n",
    "        return {\n",
    "            'grant_type': 'client_credentials'\n",
    "        }\n",
    "    \n",
    "    def perform_auth(self):\n",
    "        token_url = self.token_url\n",
    "        token_data = self.get_token_data()\n",
    "        token_headers = self.get_token_headers()\n",
    "        r = requests.post(token_url, data=token_data, headers=token_headers)\n",
    "        if r.status_code not in range(200, 299):\n",
    "            print(r)\n",
    "            return False\n",
    "        data = r.json()\n",
    "        now = datetime.now()\n",
    "        access_token = data['access_token']\n",
    "        expires_in = data['expires_in']\n",
    "        expires = now + timedelta(seconds=expires_in)\n",
    "        self.access_token = access_token\n",
    "        self.access_token_expires = expires\n",
    "        self.access_token_did_expire = expires < now\n",
    "        return True\n",
    "    \n",
    "    def is_token_expired(self):\n",
    "        return self.access_token_expires < datetime.now()"
   ]
  },
  {
   "cell_type": "code",
   "execution_count": 9,
   "metadata": {},
   "outputs": [
    {
     "data": {
      "text/plain": [
       "True"
      ]
     },
     "execution_count": 9,
     "metadata": {},
     "output_type": "execute_result"
    }
   ],
   "source": [
    "client = SpotifyAPI(client_id, client_secret)\n",
    "client.perform_auth()"
   ]
  },
  {
   "cell_type": "code",
   "execution_count": 19,
   "metadata": {},
   "outputs": [],
   "source": [
    "path_base = 'D:\\schule\\diplomarbeit'\n",
    "\n",
    "path_playlists = f'{path_base}\\conversions\\json\\minimized_mpd_0-9999.json'\n",
    "path_playlist_infos = f'{path_base}\\conversions\\json\\playlist_infos_0-9999.json'\n",
    "path_unique_tracks = f'{path_base}\\\\conversions\\\\json\\\\unique_tracks_0-9999.json'\n",
    "\n",
    "mpd_csv_file = f'{path_base}\\conversions\\csv\\mpd_slice_0-9999.csv'\n",
    "\n",
    "path_models = Path(f'{path_base}/models')"
   ]
  },
  {
   "cell_type": "code",
   "execution_count": 20,
   "metadata": {},
   "outputs": [],
   "source": [
    "save = pathlib.PosixPath\n",
    "pathlib.PosixPath = pathlib.WindowsPath   \n",
    "learn = load_learner(path_models/'playlists_tracks_br_model_v1.pkl')\n",
    "artist_learner = load_learner(path_models/'playlists_artists_br_model_v1.pkl')\n",
    "pathlib.PosixPath = save\n",
    "\n",
    "# Required for version 1\n",
    "track_factors = learn.model.i_weight.weight\n",
    "playlist_factors = learn.model.u_weight.weight\n",
    "\n",
    "dls = learn.dls"
   ]
  },
  {
   "cell_type": "code",
   "execution_count": 21,
   "metadata": {},
   "outputs": [],
   "source": [
    "playlist_infos = json.load(open(path_playlist_infos, 'r'))\n",
    "playlists = json.load(open(path_playlists, 'r'))\n",
    "unique_tracks = json.load(open(path_unique_tracks, 'r'))\n",
    "\n",
    "playlists_csv = pd.read_csv(mpd_csv_file, delimiter=',', encoding='utf-8', header=None, low_memory=False,\n",
    "                       names=['pid','track_uri','rating','playlist_name','track_name','artist_uri','artist_name'], skiprows=1)"
   ]
  },
  {
   "cell_type": "code",
   "execution_count": 24,
   "metadata": {},
   "outputs": [
    {
     "name": "stdout",
     "output_type": "stream",
     "text": [
      " * Serving Flask app \"flowsy\" (lazy loading)\n",
      " * Environment: production\n",
      "   WARNING: This is a development server. Do not use it in a production deployment.\n",
      "   Use a production WSGI server instead.\n",
      " * Debug mode: off\n"
     ]
    },
    {
     "name": "stderr",
     "output_type": "stream",
     "text": [
      " * Running on http://0.0.0.0:5000/ (Press CTRL+C to quit)\n",
      "10.0.0.4 - - [06/Dec/2020 15:58:51] \"\u001b[37mGET /playlist/36 HTTP/1.1\u001b[0m\" 200 -\n",
      "10.0.0.4 - - [06/Dec/2020 15:58:51] \"\u001b[37mGET /tracks/36 HTTP/1.1\u001b[0m\" 200 -\n",
      "10.0.0.4 - - [06/Dec/2020 15:58:56] \"\u001b[37mGET /recommendationv1/36?n=50 HTTP/1.1\u001b[0m\" 200 -\n",
      "10.0.0.4 - - [06/Dec/2020 15:59:03] \"\u001b[37mGET /recommendationv2/36?n=50 HTTP/1.1\u001b[0m\" 200 -\n",
      "10.0.0.4 - - [06/Dec/2020 15:59:56] \"\u001b[37mGET /search/rock HTTP/1.1\u001b[0m\" 200 -\n"
     ]
    }
   ],
   "source": [
    "app = Flask(\"flowsy\")\n",
    "CORS(app)\n",
    "\n",
    "@app.route('/token')\n",
    "def getSpotifyToken():\n",
    "    if(client.is_token_expired()):\n",
    "        client.perform_auth()\n",
    "    return json.dumps(client.access_token)\n",
    "\n",
    "@app.route('/search/<filter>')\n",
    "def search(filter):\n",
    "    playlist_info = []\n",
    "    for playlist in playlist_infos:\n",
    "        if(filter.lower() in playlist['name'].lower()):\n",
    "            playlist_info.append(playlist)\n",
    "    return json.dumps(playlist_info)\n",
    "\n",
    "@app.route('/playlist/<pid>')\n",
    "def getPlaylistInfo(pid):\n",
    "    return playlists[int(pid)]\n",
    "\n",
    "@app.route('/tracks/<pid>')\n",
    "def getTracksOfPlaylist(pid):\n",
    "    return json.dumps(playlists[int(pid)]['tracks'])\n",
    "\n",
    "@app.route('/recommendationv2/<pid>')\n",
    "def getRecommendationv2(pid):\n",
    "    \n",
    "    rec = Recommender(p_learn=learn, a_learn=artist_learner, playlists=playlists_csv)\n",
    "    rec_track_uris = rec.recommend(pid=int(pid))\n",
    "    \n",
    "    # Get number of requested tracks\n",
    "    n = int(request.args.get('n'))\n",
    "    \n",
    "    # Translate recommended tracks\n",
    "    rec_tracks = []\n",
    "    for track_uri in rec_track_uris[:n]:\n",
    "        for track in unique_tracks:\n",
    "            if(track['track_uri'] == track_uri):\n",
    "                rec_tracks.append(track)\n",
    "                break\n",
    "    return json.dumps(rec_tracks)\n",
    "\n",
    "@app.route('/recommendationv1/<pid>')\n",
    "def getRecommendationv1(pid):\n",
    "    \n",
    "    idx = dls.classes['pid'].o2i[int(pid)]\n",
    "    \n",
    "    # Calculate dot products\n",
    "    distances = np.array(list((playlist_factors[idx] @ track_factor for track_factor in track_factors)))\n",
    "    \n",
    "    # Get number of requested tracks\n",
    "    n = int(request.args.get('n'))\n",
    "    \n",
    "    temp = n + playlists[int(pid)]['num_tracks']\n",
    "    \n",
    "    # Get tracks of highest dot product\n",
    "    indices = heapq.nlargest(temp, range(len(distances)), distances.take)\n",
    "    \n",
    "    # Remove duplicates\n",
    "    tracks_of_playlist = list(track['track_uri'] for track in playlists[int(pid)]['tracks'])\n",
    "    top_track_uris = list((dls.classes['track_uri'][idx] for idx in indices))\n",
    "    filtered_top_track_uris = [top_track_uri for top_track_uri in top_track_uris if not top_track_uri in tracks_of_playlist]\n",
    "    \n",
    "    # Translate recommended tracks\n",
    "    top_tracks = []\n",
    "    for track_uri in filtered_top_track_uris[:n]:\n",
    "        for track in unique_tracks:\n",
    "            if(track['track_uri'] == track_uri):\n",
    "                top_tracks.append(track)\n",
    "                break\n",
    "    return json.dumps(top_tracks)\n",
    "                \n",
    "    \n",
    "app.run(host='0.0.0.0')"
   ]
  },
  {
   "cell_type": "code",
   "execution_count": null,
   "metadata": {},
   "outputs": [],
   "source": []
  }
 ],
 "metadata": {
  "kernelspec": {
   "display_name": "Python 3",
   "language": "python",
   "name": "python3"
  },
  "language_info": {
   "codemirror_mode": {
    "name": "ipython",
    "version": 3
   },
   "file_extension": ".py",
   "mimetype": "text/x-python",
   "name": "python",
   "nbconvert_exporter": "python",
   "pygments_lexer": "ipython3",
   "version": "3.8.5"
  }
 },
 "nbformat": 4,
 "nbformat_minor": 4
}
