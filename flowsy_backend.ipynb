{
 "cells": [
  {
   "cell_type": "code",
   "execution_count": 1,
   "metadata": {},
   "outputs": [
    {
     "name": "stdout",
     "output_type": "stream",
     "text": [
      "Microsoft Visual C++ Redistributable is not installed, this may lead to the DLL load failure.\n",
      "                 It can be downloaded at https://aka.ms/vs/16/release/vc_redist.x64.exe\n"
     ]
    }
   ],
   "source": [
    "from flask import Flask\n",
    "from flask_cors import CORS\n",
    "from flask import request\n",
    "import json\n",
    "import pandas as pd\n",
    "import pathlib\n",
    "import heapq\n",
    "\n",
    "from fastai.collab import *\n",
    "from fastai.tabular.all import *"
   ]
  },
  {
   "cell_type": "code",
   "execution_count": 2,
   "metadata": {},
   "outputs": [],
   "source": [
    "path_playlists = r\"D:\\schule\\diplomarbeit\\converted_json\\minimized_mpd_0-9999.json\"\n",
    "path_unique_tracks = r\"D:\\schule\\diplomarbeit\\converted_json\\unique_tracks_0-9999.json\"\n",
    "\n",
    "path_model = Path(\"D:/schule/diplomarbeit/models\")"
   ]
  },
  {
   "cell_type": "code",
   "execution_count": 3,
   "metadata": {},
   "outputs": [],
   "source": [
    "save = pathlib.PosixPath\n",
    "pathlib.PosixPath = pathlib.WindowsPath   \n",
    "learn = load_learner(path_model/'playlists_tracks_br_model_v1.pkl') \n",
    "pathlib.PosixPath = save\n",
    "\n",
    "track_factors = learn.model.i_weight.weight\n",
    "playlist_factors = learn.model.u_weight.weight\n",
    "\n",
    "dls = learn.dls"
   ]
  },
  {
   "cell_type": "code",
   "execution_count": 4,
   "metadata": {},
   "outputs": [],
   "source": [
    "playlists_info = json.load(open(path_playlists, 'r'))\n",
    "for playlist in playlists_info:\n",
    "    del playlist['tracks']\n",
    "playlists = json.load(open(path_playlists, 'r'))\n",
    "unique_tracks = json.load(open(path_unique_tracks, 'r'))"
   ]
  },
  {
   "cell_type": "code",
   "execution_count": 5,
   "metadata": {},
   "outputs": [
    {
     "name": "stdout",
     "output_type": "stream",
     "text": [
      " * Serving Flask app \"flowsy\" (lazy loading)\n",
      " * Environment: production\n",
      "   WARNING: This is a development server. Do not use it in a production deployment.\n",
      "   Use a production WSGI server instead.\n",
      " * Debug mode: off\n"
     ]
    },
    {
     "name": "stderr",
     "output_type": "stream",
     "text": [
      " * Running on http://0.0.0.0:5000/ (Press CTRL+C to quit)\n",
      "10.0.0.4 - - [16/Nov/2020 17:59:42] \"\u001b[37mGET /search/pop HTTP/1.1\u001b[0m\" 200 -\n",
      "10.0.0.4 - - [16/Nov/2020 17:59:44] \"\u001b[37mGET /playlist/708 HTTP/1.1\u001b[0m\" 200 -\n",
      "10.0.0.4 - - [16/Nov/2020 17:59:44] \"\u001b[37mGET /tracks/708 HTTP/1.1\u001b[0m\" 200 -\n",
      "10.0.0.4 - - [16/Nov/2020 17:59:50] \"\u001b[37mGET /search/pop HTTP/1.1\u001b[0m\" 200 -\n",
      "10.0.0.4 - - [16/Nov/2020 18:04:26] \"\u001b[37mGET /search/oldies HTTP/1.1\u001b[0m\" 200 -\n",
      "10.0.0.4 - - [16/Nov/2020 18:05:06] \"\u001b[37mGET /search/rap HTTP/1.1\u001b[0m\" 200 -\n",
      "10.0.0.4 - - [16/Nov/2020 18:05:08] \"\u001b[37mGET /playlist/81 HTTP/1.1\u001b[0m\" 200 -\n",
      "10.0.0.4 - - [16/Nov/2020 18:05:08] \"\u001b[37mGET /tracks/81 HTTP/1.1\u001b[0m\" 200 -\n",
      "10.0.0.4 - - [16/Nov/2020 18:05:12] \"\u001b[37mGET /search/rap HTTP/1.1\u001b[0m\" 200 -\n",
      "10.0.0.4 - - [16/Nov/2020 18:05:17] \"\u001b[37mGET /playlist/81 HTTP/1.1\u001b[0m\" 200 -\n",
      "10.0.0.4 - - [16/Nov/2020 18:05:17] \"\u001b[37mGET /tracks/81 HTTP/1.1\u001b[0m\" 200 -\n",
      "10.0.0.4 - - [16/Nov/2020 18:06:41] \"\u001b[37mGET /search/indie HTTP/1.1\u001b[0m\" 200 -\n",
      "10.0.0.4 - - [16/Nov/2020 18:06:48] \"\u001b[37mGET /playlist/3437 HTTP/1.1\u001b[0m\" 200 -\n",
      "10.0.0.4 - - [16/Nov/2020 18:06:48] \"\u001b[37mGET /tracks/3437 HTTP/1.1\u001b[0m\" 200 -\n",
      "10.0.0.4 - - [16/Nov/2020 18:06:54] \"\u001b[37mGET /search/indie HTTP/1.1\u001b[0m\" 200 -\n",
      "10.0.0.4 - - [16/Nov/2020 18:07:39] \"\u001b[37mGET /playlist/3437 HTTP/1.1\u001b[0m\" 200 -\n",
      "10.0.0.4 - - [16/Nov/2020 18:07:39] \"\u001b[37mGET /tracks/3437 HTTP/1.1\u001b[0m\" 200 -\n",
      "10.0.0.4 - - [16/Nov/2020 18:09:46] \"\u001b[37mGET /search/indie HTTP/1.1\u001b[0m\" 200 -\n",
      "10.0.0.4 - - [16/Nov/2020 18:09:48] \"\u001b[37mGET /playlist/3437 HTTP/1.1\u001b[0m\" 200 -\n",
      "10.0.0.4 - - [16/Nov/2020 18:09:48] \"\u001b[37mGET /tracks/3437 HTTP/1.1\u001b[0m\" 200 -\n",
      "10.0.0.4 - - [16/Nov/2020 18:14:56] \"\u001b[37mGET /search/indie HTTP/1.1\u001b[0m\" 200 -\n",
      "10.0.0.4 - - [16/Nov/2020 18:15:58] \"\u001b[37mGET /playlist/3437 HTTP/1.1\u001b[0m\" 200 -\n",
      "10.0.0.4 - - [16/Nov/2020 18:15:58] \"\u001b[37mGET /tracks/3437 HTTP/1.1\u001b[0m\" 200 -\n",
      "10.0.0.4 - - [16/Nov/2020 18:32:58] \"\u001b[37mGET /search/oldies HTTP/1.1\u001b[0m\" 200 -\n",
      "10.0.0.4 - - [16/Nov/2020 18:33:00] \"\u001b[37mGET /playlist/129 HTTP/1.1\u001b[0m\" 200 -\n",
      "10.0.0.4 - - [16/Nov/2020 18:33:00] \"\u001b[37mGET /tracks/129 HTTP/1.1\u001b[0m\" 200 -\n",
      "10.0.0.4 - - [16/Nov/2020 18:33:04] \"\u001b[37mGET /search/oldies HTTP/1.1\u001b[0m\" 200 -\n",
      "10.0.0.4 - - [16/Nov/2020 18:38:42] \"\u001b[37mGET /playlist/129 HTTP/1.1\u001b[0m\" 200 -\n",
      "10.0.0.4 - - [16/Nov/2020 18:38:42] \"\u001b[37mGET /tracks/129 HTTP/1.1\u001b[0m\" 200 -\n",
      "10.0.0.4 - - [16/Nov/2020 19:12:56] \"\u001b[37mGET /search/christmas HTTP/1.1\u001b[0m\" 200 -\n",
      "10.0.0.4 - - [16/Nov/2020 19:13:03] \"\u001b[37mGET /search/Christmas HTTP/1.1\u001b[0m\" 200 -\n",
      "10.0.0.4 - - [16/Nov/2020 19:13:05] \"\u001b[37mGET /playlist/255 HTTP/1.1\u001b[0m\" 200 -\n",
      "10.0.0.4 - - [16/Nov/2020 19:13:05] \"\u001b[37mGET /tracks/255 HTTP/1.1\u001b[0m\" 200 -\n",
      "10.0.0.4 - - [16/Nov/2020 19:14:17] \"\u001b[37mGET /search/rap HTTP/1.1\u001b[0m\" 200 -\n",
      "10.0.0.4 - - [16/Nov/2020 19:14:20] \"\u001b[37mGET /tracks/589 HTTP/1.1\u001b[0m\" 200 -\n",
      "10.0.0.4 - - [16/Nov/2020 19:14:20] \"\u001b[37mGET /playlist/589 HTTP/1.1\u001b[0m\" 200 -\n",
      "10.0.0.4 - - [16/Nov/2020 19:14:26] \"\u001b[37mGET /search/rap HTTP/1.1\u001b[0m\" 200 -\n",
      "10.0.0.4 - - [16/Nov/2020 19:15:18] \"\u001b[37mGET /search/indie HTTP/1.1\u001b[0m\" 200 -\n",
      "10.0.0.4 - - [16/Nov/2020 19:15:20] \"\u001b[37mGET /playlist/3437 HTTP/1.1\u001b[0m\" 200 -\n",
      "10.0.0.4 - - [16/Nov/2020 19:15:20] \"\u001b[37mGET /tracks/3437 HTTP/1.1\u001b[0m\" 200 -\n",
      "10.0.0.4 - - [16/Nov/2020 19:15:24] \"\u001b[37mGET /search/indie HTTP/1.1\u001b[0m\" 200 -\n",
      "10.0.0.4 - - [16/Nov/2020 19:17:50] \"\u001b[37mGET /search/pop HTTP/1.1\u001b[0m\" 200 -\n",
      "10.0.0.4 - - [16/Nov/2020 19:17:53] \"\u001b[37mGET /tracks/708 HTTP/1.1\u001b[0m\" 200 -\n",
      "10.0.0.4 - - [16/Nov/2020 19:17:53] \"\u001b[37mGET /playlist/708 HTTP/1.1\u001b[0m\" 200 -\n",
      "10.0.0.4 - - [16/Nov/2020 19:18:05] \"\u001b[37mGET /search/pop HTTP/1.1\u001b[0m\" 200 -\n",
      "10.0.0.4 - - [16/Nov/2020 19:18:34] \"\u001b[37mGET /tracks/708 HTTP/1.1\u001b[0m\" 200 -\n",
      "10.0.0.4 - - [16/Nov/2020 19:18:34] \"\u001b[37mGET /playlist/708 HTTP/1.1\u001b[0m\" 200 -\n",
      "10.0.0.4 - - [16/Nov/2020 19:21:01] \"\u001b[37mGET /search/electro HTTP/1.1\u001b[0m\" 200 -\n",
      "10.0.0.4 - - [16/Nov/2020 19:21:03] \"\u001b[37mGET /playlist/330 HTTP/1.1\u001b[0m\" 200 -\n",
      "10.0.0.4 - - [16/Nov/2020 19:21:03] \"\u001b[37mGET /tracks/330 HTTP/1.1\u001b[0m\" 200 -\n",
      "10.0.0.4 - - [16/Nov/2020 19:21:07] \"\u001b[37mGET /search/electronic HTTP/1.1\u001b[0m\" 200 -\n",
      "10.0.0.4 - - [16/Nov/2020 19:23:14] \"\u001b[37mGET /search/sad%20songs HTTP/1.1\u001b[0m\" 200 -\n",
      "10.0.0.4 - - [16/Nov/2020 19:23:19] \"\u001b[37mGET /playlist/4039 HTTP/1.1\u001b[0m\" 200 -\n",
      "10.0.0.4 - - [16/Nov/2020 19:23:19] \"\u001b[37mGET /tracks/4039 HTTP/1.1\u001b[0m\" 200 -\n"
     ]
    }
   ],
   "source": [
    "app = Flask(\"flowsy\")\n",
    "CORS(app)\n",
    "\n",
    "@app.route('/search/<filter>')\n",
    "def search(filter):\n",
    "    playlist_info = []\n",
    "    for playlist in playlists_info:\n",
    "        if(filter in playlist['name']):\n",
    "            playlist_info.append(playlist)\n",
    "    return json.dumps(playlist_info)\n",
    "\n",
    "@app.route('/playlist/<pid>')\n",
    "def getPlaylistInfo(pid):\n",
    "    return playlists[int(pid)]\n",
    "\n",
    "@app.route('/tracks/<pid>')\n",
    "def getTracksOfPlaylist(pid):\n",
    "    return json.dumps(playlists[int(pid)]['tracks'])\n",
    "\n",
    "@app.route('/recommendation/<pid>')\n",
    "def getRecommendation(pid):\n",
    "    idx = dls.classes['pid'].o2i[int(pid)]\n",
    "    distances = np.array(list((playlist_factors[idx] @ track_factor for track_factor in track_factors)))\n",
    "    n = int(request.args.get('n'))\n",
    "    temp = n + playlists[int(pid)]['num_tracks']\n",
    "    indices = heapq.nlargest(temp, range(len(distances)), distances.take)\n",
    "    tracks_of_playlist = list(track['track_uri'] for track in playlists[int(pid)]['tracks'])\n",
    "    top_track_uris = list((dls.classes['track_uri'][idx] for idx in indices))\n",
    "    filtered_top_track_uris = [top_track_uri for top_track_uri in top_track_uris if not top_track_uri in tracks_of_playlist]\n",
    "    top_tracks = []\n",
    "    for track_uri in filtered_top_track_uris[:n]:\n",
    "        for track in unique_tracks:\n",
    "            if(track['track_uri'] == track_uri):\n",
    "                top_tracks.append(track)\n",
    "                break\n",
    "    return json.dumps(top_tracks)\n",
    "                \n",
    "    \n",
    "app.run(host='0.0.0.0')"
   ]
  },
  {
   "cell_type": "code",
   "execution_count": null,
   "metadata": {},
   "outputs": [],
   "source": []
  }
 ],
 "metadata": {
  "kernelspec": {
   "display_name": "Python 3",
   "language": "python",
   "name": "python3"
  },
  "language_info": {
   "codemirror_mode": {
    "name": "ipython",
    "version": 3
   },
   "file_extension": ".py",
   "mimetype": "text/x-python",
   "name": "python",
   "nbconvert_exporter": "python",
   "pygments_lexer": "ipython3",
   "version": "3.8.5"
  }
 },
 "nbformat": 4,
 "nbformat_minor": 4
}
