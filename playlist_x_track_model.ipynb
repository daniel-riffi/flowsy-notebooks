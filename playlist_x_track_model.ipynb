{
  "nbformat": 4,
  "nbformat_minor": 0,
  "metadata": {
    "colab": {
      "name": "playlist_x_track_model.ipynb",
      "provenance": [],
      "collapsed_sections": [
        "2wBQ17of7S3a",
        "uuC1-j39_cW6",
        "m8RgkLLm50mH",
        "KMz2g4dG6AXK"
      ],
      "authorship_tag": "ABX9TyN01LzGszhofJWjEirJoyEq",
      "include_colab_link": true
    },
    "kernelspec": {
      "name": "python3",
      "display_name": "Python 3"
    },
    "accelerator": "GPU"
  },
  "cells": [
    {
      "cell_type": "markdown",
      "metadata": {
        "id": "view-in-github",
        "colab_type": "text"
      },
      "source": [
        "<a href=\"https://colab.research.google.com/github/daniel-riffi/flowsy-notebooks/blob/master/playlist_x_track_model.ipynb\" target=\"_parent\"><img src=\"https://colab.research.google.com/assets/colab-badge.svg\" alt=\"Open In Colab\"/></a>"
      ]
    },
    {
      "cell_type": "code",
      "metadata": {
        "id": "f4E39WZqLxgp",
        "colab": {
          "base_uri": "https://localhost:8080/"
        },
        "outputId": "66dce5f7-84d1-4381-aa9e-17e14aea0a39"
      },
      "source": [
        "!pip install -Uqq fastbook\n",
        "import fastbook\n",
        "fastbook.setup_book()"
      ],
      "execution_count": 1,
      "outputs": [
        {
          "output_type": "stream",
          "text": [
            "\u001b[K     |████████████████████████████████| 727kB 6.5MB/s \n",
            "\u001b[K     |████████████████████████████████| 1.1MB 8.9MB/s \n",
            "\u001b[K     |████████████████████████████████| 51kB 8.0MB/s \n",
            "\u001b[K     |████████████████████████████████| 51kB 8.8MB/s \n",
            "\u001b[K     |████████████████████████████████| 194kB 21.8MB/s \n",
            "\u001b[K     |████████████████████████████████| 51kB 8.7MB/s \n",
            "\u001b[K     |████████████████████████████████| 92kB 10.7MB/s \n",
            "\u001b[K     |████████████████████████████████| 40kB 6.9MB/s \n",
            "\u001b[K     |████████████████████████████████| 51kB 8.7MB/s \n",
            "\u001b[K     |████████████████████████████████| 61kB 8.9MB/s \n",
            "\u001b[K     |████████████████████████████████| 2.6MB 21.8MB/s \n",
            "\u001b[?25hMounted at /content/gdrive\n"
          ],
          "name": "stdout"
        }
      ]
    },
    {
      "cell_type": "code",
      "metadata": {
        "id": "KGSQK9dlMLaL"
      },
      "source": [
        "from fastbook import *\n",
        "from fastai.collab import *\n",
        "from fastai.tabular.all import *\n",
        "\n",
        "import heapq\n",
        "import math"
      ],
      "execution_count": 2,
      "outputs": []
    },
    {
      "cell_type": "code",
      "metadata": {
        "id": "0DOJqdGmMUnb",
        "colab": {
          "base_uri": "https://localhost:8080/",
          "height": 206
        },
        "outputId": "b95064c8-8b74-48c9-955b-0e77baf757b0"
      },
      "source": [
        "base_path = '/content/gdrive/My Drive/schule/diplomarbeit/mpd'\n",
        "path_models = Path('/content/gdrive/My Drive/schule/diplomarbeit/models')\n",
        "mpd_csv_file = f'{base_path}/mpd_slice_0-9999.csv'\n",
        "mpd_unique_tracks_file = f'{base_path}/mpd_slice_0-9999_tracks.csv'\n",
        "mpd_unique_artists_file = f'{base_path}/unique_artists_0-9999.csv'\n",
        "playlists_info_file = f'{base_path}/playlists_0-9999.csv'\n",
        "\n",
        "playlists = pd.read_csv(mpd_csv_file, delimiter=',', encoding='utf-8', header=None, low_memory=False,\n",
        "                       names=['pid','track_uri','rating','playlist_name','track_name','artist_uri','artist_name'], skiprows=1)\n",
        "playlists.head()"
      ],
      "execution_count": 6,
      "outputs": [
        {
          "output_type": "execute_result",
          "data": {
            "text/html": [
              "<div>\n",
              "<style scoped>\n",
              "    .dataframe tbody tr th:only-of-type {\n",
              "        vertical-align: middle;\n",
              "    }\n",
              "\n",
              "    .dataframe tbody tr th {\n",
              "        vertical-align: top;\n",
              "    }\n",
              "\n",
              "    .dataframe thead th {\n",
              "        text-align: right;\n",
              "    }\n",
              "</style>\n",
              "<table border=\"1\" class=\"dataframe\">\n",
              "  <thead>\n",
              "    <tr style=\"text-align: right;\">\n",
              "      <th></th>\n",
              "      <th>pid</th>\n",
              "      <th>track_uri</th>\n",
              "      <th>rating</th>\n",
              "      <th>playlist_name</th>\n",
              "      <th>track_name</th>\n",
              "      <th>artist_uri</th>\n",
              "      <th>artist_name</th>\n",
              "    </tr>\n",
              "  </thead>\n",
              "  <tbody>\n",
              "    <tr>\n",
              "      <th>0</th>\n",
              "      <td>0</td>\n",
              "      <td>spotify:track:0UaMYEvWZi0ZqiDOoHU3YI</td>\n",
              "      <td>1</td>\n",
              "      <td>Throwbacks</td>\n",
              "      <td>Lose Control (feat. Ciara &amp; Fat Man Scoop)</td>\n",
              "      <td>spotify:artist:2wIVse2owClT7go1WT98tk</td>\n",
              "      <td>Missy Elliott</td>\n",
              "    </tr>\n",
              "    <tr>\n",
              "      <th>1</th>\n",
              "      <td>0</td>\n",
              "      <td>spotify:track:6I9VzXrHxO9rA9A5euc8Ak</td>\n",
              "      <td>1</td>\n",
              "      <td>Throwbacks</td>\n",
              "      <td>Toxic</td>\n",
              "      <td>spotify:artist:26dSoYclwsYLMAKD3tpOr4</td>\n",
              "      <td>Britney Spears</td>\n",
              "    </tr>\n",
              "    <tr>\n",
              "      <th>2</th>\n",
              "      <td>0</td>\n",
              "      <td>spotify:track:0WqIKmW4BTrj3eJFmnCKMv</td>\n",
              "      <td>1</td>\n",
              "      <td>Throwbacks</td>\n",
              "      <td>Crazy In Love</td>\n",
              "      <td>spotify:artist:6vWDO969PvNqNYHIOW5v0m</td>\n",
              "      <td>Beyoncé</td>\n",
              "    </tr>\n",
              "    <tr>\n",
              "      <th>3</th>\n",
              "      <td>0</td>\n",
              "      <td>spotify:track:1AWQoqb9bSvzTjaLralEkT</td>\n",
              "      <td>1</td>\n",
              "      <td>Throwbacks</td>\n",
              "      <td>Rock Your Body</td>\n",
              "      <td>spotify:artist:31TPClRtHm23RisEBtV3X7</td>\n",
              "      <td>Justin Timberlake</td>\n",
              "    </tr>\n",
              "    <tr>\n",
              "      <th>4</th>\n",
              "      <td>0</td>\n",
              "      <td>spotify:track:1lzr43nnXAijIGYnCT8M8H</td>\n",
              "      <td>1</td>\n",
              "      <td>Throwbacks</td>\n",
              "      <td>It Wasn't Me</td>\n",
              "      <td>spotify:artist:5EvFsr3kj42KNv97ZEnqij</td>\n",
              "      <td>Shaggy</td>\n",
              "    </tr>\n",
              "  </tbody>\n",
              "</table>\n",
              "</div>"
            ],
            "text/plain": [
              "   pid                             track_uri  rating playlist_name  \\\n",
              "0    0  spotify:track:0UaMYEvWZi0ZqiDOoHU3YI       1    Throwbacks   \n",
              "1    0  spotify:track:6I9VzXrHxO9rA9A5euc8Ak       1    Throwbacks   \n",
              "2    0  spotify:track:0WqIKmW4BTrj3eJFmnCKMv       1    Throwbacks   \n",
              "3    0  spotify:track:1AWQoqb9bSvzTjaLralEkT       1    Throwbacks   \n",
              "4    0  spotify:track:1lzr43nnXAijIGYnCT8M8H       1    Throwbacks   \n",
              "\n",
              "                                   track_name  \\\n",
              "0  Lose Control (feat. Ciara & Fat Man Scoop)   \n",
              "1                                       Toxic   \n",
              "2                               Crazy In Love   \n",
              "3                              Rock Your Body   \n",
              "4                                It Wasn't Me   \n",
              "\n",
              "                              artist_uri        artist_name  \n",
              "0  spotify:artist:2wIVse2owClT7go1WT98tk      Missy Elliott  \n",
              "1  spotify:artist:26dSoYclwsYLMAKD3tpOr4     Britney Spears  \n",
              "2  spotify:artist:6vWDO969PvNqNYHIOW5v0m            Beyoncé  \n",
              "3  spotify:artist:31TPClRtHm23RisEBtV3X7  Justin Timberlake  \n",
              "4  spotify:artist:5EvFsr3kj42KNv97ZEnqij             Shaggy  "
            ]
          },
          "metadata": {
            "tags": []
          },
          "execution_count": 6
        }
      ]
    },
    {
      "cell_type": "code",
      "metadata": {
        "id": "SDuveXOiffeo"
      },
      "source": [
        "playlists['rating'] = playlists['rating'].apply(lambda x: x / 10)\n",
        "playlists.head()"
      ],
      "execution_count": null,
      "outputs": []
    },
    {
      "cell_type": "code",
      "metadata": {
        "id": "fHsSi4nSOvfx"
      },
      "source": [
        "dls = CollabDataLoaders.from_df(playlists, item_name='track_uri', bs=64)"
      ],
      "execution_count": null,
      "outputs": []
    },
    {
      "cell_type": "code",
      "metadata": {
        "id": "F8cl6khBO1sc",
        "colab": {
          "base_uri": "https://localhost:8080/",
          "height": 363
        },
        "outputId": "677e88b9-d027-4e46-fe32-bcd7483f9bdc"
      },
      "source": [
        "dls.show_batch()"
      ],
      "execution_count": null,
      "outputs": [
        {
          "output_type": "display_data",
          "data": {
            "text/html": [
              "<table border=\"1\" class=\"dataframe\">\n",
              "  <thead>\n",
              "    <tr style=\"text-align: right;\">\n",
              "      <th></th>\n",
              "      <th>pid</th>\n",
              "      <th>track_uri</th>\n",
              "      <th>rating</th>\n",
              "    </tr>\n",
              "  </thead>\n",
              "  <tbody>\n",
              "    <tr>\n",
              "      <th>0</th>\n",
              "      <td>7942</td>\n",
              "      <td>spotify:track:5ghIJDpPoe3CfHMGu71E6T</td>\n",
              "      <td>1</td>\n",
              "    </tr>\n",
              "    <tr>\n",
              "      <th>1</th>\n",
              "      <td>9244</td>\n",
              "      <td>spotify:track:4yuIJbzzerfKkkopLhr68D</td>\n",
              "      <td>1</td>\n",
              "    </tr>\n",
              "    <tr>\n",
              "      <th>2</th>\n",
              "      <td>7990</td>\n",
              "      <td>spotify:track:7Juu32WsD2Spqg8xdPuHlK</td>\n",
              "      <td>1</td>\n",
              "    </tr>\n",
              "    <tr>\n",
              "      <th>3</th>\n",
              "      <td>7789</td>\n",
              "      <td>spotify:track:4hNPMfFHauPIbOKvdYqFt7</td>\n",
              "      <td>1</td>\n",
              "    </tr>\n",
              "    <tr>\n",
              "      <th>4</th>\n",
              "      <td>1460</td>\n",
              "      <td>spotify:track:4gUDdUr5yK0JGlR49zSRVt</td>\n",
              "      <td>1</td>\n",
              "    </tr>\n",
              "    <tr>\n",
              "      <th>5</th>\n",
              "      <td>7343</td>\n",
              "      <td>spotify:track:1S27YnqoB8VygeNWj2yOa2</td>\n",
              "      <td>1</td>\n",
              "    </tr>\n",
              "    <tr>\n",
              "      <th>6</th>\n",
              "      <td>9471</td>\n",
              "      <td>spotify:track:2MRJJfu5FN6nuVuLwwdVpw</td>\n",
              "      <td>1</td>\n",
              "    </tr>\n",
              "    <tr>\n",
              "      <th>7</th>\n",
              "      <td>7095</td>\n",
              "      <td>spotify:track:6TaqooOXAEcijL6G1AWS2K</td>\n",
              "      <td>1</td>\n",
              "    </tr>\n",
              "    <tr>\n",
              "      <th>8</th>\n",
              "      <td>7486</td>\n",
              "      <td>spotify:track:0QyMDyosGai50pjaFbC1NO</td>\n",
              "      <td>1</td>\n",
              "    </tr>\n",
              "    <tr>\n",
              "      <th>9</th>\n",
              "      <td>225</td>\n",
              "      <td>spotify:track:5XzmZjXhMjDHr7ZfJ6DELQ</td>\n",
              "      <td>1</td>\n",
              "    </tr>\n",
              "  </tbody>\n",
              "</table>"
            ],
            "text/plain": [
              "<IPython.core.display.HTML object>"
            ]
          },
          "metadata": {
            "tags": []
          }
        }
      ]
    },
    {
      "cell_type": "markdown",
      "metadata": {
        "id": "eTbAwNkn7MIm"
      },
      "source": [
        "## Training"
      ]
    },
    {
      "cell_type": "code",
      "metadata": {
        "id": "jN3nD6o_PS4F"
      },
      "source": [
        "learn = collab_learner(dls, n_factors=50, y_range=(0,1.5))\n",
        "learn.path = path_models"
      ],
      "execution_count": null,
      "outputs": []
    },
    {
      "cell_type": "code",
      "metadata": {
        "id": "UH3d1rfNB44h",
        "colab": {
          "base_uri": "https://localhost:8080/",
          "height": 301
        },
        "outputId": "4101c9b1-018b-4af2-d4e5-953f6604e4e4"
      },
      "source": [
        "learn.lr_find()"
      ],
      "execution_count": null,
      "outputs": [
        {
          "output_type": "display_data",
          "data": {
            "text/html": [
              ""
            ],
            "text/plain": [
              "<IPython.core.display.HTML object>"
            ]
          },
          "metadata": {
            "tags": []
          }
        },
        {
          "output_type": "execute_result",
          "data": {
            "text/plain": [
              "SuggestedLRs(lr_min=0.03630780577659607, lr_steep=0.00363078061491251)"
            ]
          },
          "metadata": {
            "tags": []
          },
          "execution_count": 41
        },
        {
          "output_type": "display_data",
          "data": {
            "image/png": "[encoded data removed]",
            "text/plain": [
              "<Figure size 432x288 with 1 Axes>"
            ]
          },
          "metadata": {
            "tags": [],
            "needs_background": "light"
          }
        }
      ]
    },
    {
      "cell_type": "code",
      "metadata": {
        "id": "WG2uVzyVPgF7",
        "colab": {
          "base_uri": "https://localhost:8080/",
          "height": 81
        },
        "outputId": "9f246948-7d3f-48e4-f8d6-27063e8694d6"
      },
      "source": [
        "learn.fit_one_cycle(1, 5e-3)"
      ],
      "execution_count": null,
      "outputs": [
        {
          "output_type": "display_data",
          "data": {
            "text/html": [
              "<table border=\"1\" class=\"dataframe\">\n",
              "  <thead>\n",
              "    <tr style=\"text-align: left;\">\n",
              "      <th>epoch</th>\n",
              "      <th>train_loss</th>\n",
              "      <th>valid_loss</th>\n",
              "      <th>time</th>\n",
              "    </tr>\n",
              "  </thead>\n",
              "  <tbody>\n",
              "    <tr>\n",
              "      <td>0</td>\n",
              "      <td>0.000000</td>\n",
              "      <td>0.000000</td>\n",
              "      <td>07:50</td>\n",
              "    </tr>\n",
              "  </tbody>\n",
              "</table>"
            ],
            "text/plain": [
              "<IPython.core.display.HTML object>"
            ]
          },
          "metadata": {
            "tags": []
          }
        }
      ]
    },
    {
      "cell_type": "code",
      "metadata": {
        "id": "z3CFn38wTCSH"
      },
      "source": [
        "learn.export(fname='playlists_tracks_br_model_v1.pkl')"
      ],
      "execution_count": null,
      "outputs": []
    },
    {
      "cell_type": "code",
      "metadata": {
        "id": "b2E5lLRo2Xqm"
      },
      "source": [
        "learn = load_learner(path_models/'playlists_tracks_br_model_v1.pkl')\n",
        "dls = learn.dls"
      ],
      "execution_count": 14,
      "outputs": []
    },
    {
      "cell_type": "markdown",
      "metadata": {
        "id": "2wBQ17of7S3a"
      },
      "source": [
        "## Flowsy v1"
      ]
    },
    {
      "cell_type": "markdown",
      "metadata": {
        "id": "ChYWblFJ0lIW"
      },
      "source": [
        "### Dot product calculation between latent factors"
      ]
    },
    {
      "cell_type": "code",
      "metadata": {
        "id": "FT2FDxZCPjK4"
      },
      "source": [
        "track_factors = learn.model.i_weight.weight\n",
        "playlist_factors = learn.model.u_weight.weight\n",
        "\n",
        "track_factors.shape, playlist_factors.shape"
      ],
      "execution_count": null,
      "outputs": []
    },
    {
      "cell_type": "code",
      "metadata": {
        "id": "syxSkyXlVNaC"
      },
      "source": [
        "pid = 21\n",
        "idx = dls.classes['pid'].o2i[pid]"
      ],
      "execution_count": null,
      "outputs": []
    },
    {
      "cell_type": "code",
      "metadata": {
        "id": "bWD8OCaFPjuZ"
      },
      "source": [
        "playlists.loc[playlists['pid'] == pid]"
      ],
      "execution_count": null,
      "outputs": []
    },
    {
      "cell_type": "code",
      "metadata": {
        "id": "W9ZBY5JZPj0X"
      },
      "source": [
        "distances = np.array(list((torch.dot(playlist_factors[idx], track_factor) for track_factor in track_factors)))"
      ],
      "execution_count": null,
      "outputs": []
    },
    {
      "cell_type": "code",
      "metadata": {
        "id": "N2WnX5nBUa3v"
      },
      "source": [
        "#sorted = np.sort(distances)[::-1]"
      ],
      "execution_count": null,
      "outputs": []
    },
    {
      "cell_type": "code",
      "metadata": {
        "id": "5_k42x9gB6KN"
      },
      "source": [
        "n = 50 + playlists.loc[playlists['pid'] == pid].shape[0]"
      ],
      "execution_count": null,
      "outputs": []
    },
    {
      "cell_type": "code",
      "metadata": {
        "id": "kwqWZ8IrPj_H"
      },
      "source": [
        "#idx = np.argpartition(distances, -n)[-n:]\n",
        "#indices = idx[np.argsort((-distances)[idx])]\n",
        "#indices"
      ],
      "execution_count": null,
      "outputs": []
    },
    {
      "cell_type": "code",
      "metadata": {
        "id": "oq8l366m1wLY"
      },
      "source": [
        "indices = heapq.nlargest(n, range(len(distances)), distances.take)"
      ],
      "execution_count": null,
      "outputs": []
    },
    {
      "cell_type": "markdown",
      "metadata": {
        "id": "M-uZa5QY6Vme"
      },
      "source": [
        "### Top tracks URI translation and filtering"
      ]
    },
    {
      "cell_type": "code",
      "metadata": {
        "id": "EdIcw-UiPlDn"
      },
      "source": [
        "top_tracks_uris = list((dls.classes['track_uri'][idx] for idx in indices))"
      ],
      "execution_count": null,
      "outputs": []
    },
    {
      "cell_type": "code",
      "metadata": {
        "id": "I5gFtNXWUwVk"
      },
      "source": [
        "tracks = pd.read_csv(mpd_unique_tracks_file, delimiter=',', encoding='utf-8', header=None,\n",
        "                       names=['track_uri','track_name','artist_name'], skiprows=1)"
      ],
      "execution_count": null,
      "outputs": []
    },
    {
      "cell_type": "code",
      "metadata": {
        "id": "TdHEILmDVAko"
      },
      "source": [
        "def translate_track_uris(track_uris):\n",
        "    return list((tracks.loc[tracks['track_uri'] == track_uri]['track_name'].values[0] for track_uri in track_uris))"
      ],
      "execution_count": null,
      "outputs": []
    },
    {
      "cell_type": "code",
      "metadata": {
        "id": "LQng7gYpUif2"
      },
      "source": [
        "tracks_of_playlist = list(playlists.loc[playlists['pid'] == pid]['track_uri'])\n",
        "filtered_top_tracks = [top_track for top_track in top_tracks_uris if not top_track in tracks_of_playlist]"
      ],
      "execution_count": null,
      "outputs": []
    },
    {
      "cell_type": "code",
      "metadata": {
        "id": "d3bwtmJvVmD5"
      },
      "source": [
        "top_tracks = translate_track_uris(filtered_top_tracks)\n",
        "top_tracks[:50], len(top_tracks)"
      ],
      "execution_count": null,
      "outputs": []
    },
    {
      "cell_type": "markdown",
      "metadata": {
        "id": "WnJHRP3Q3COP"
      },
      "source": [
        "## Flowsy v2"
      ]
    },
    {
      "cell_type": "code",
      "metadata": {
        "id": "oZeNZzBp3XC8"
      },
      "source": [
        "artist_learner = load_learner(path_models/'playlists_artists_br_model_v1.pkl')\n",
        "artist_dls = artist_learner.dls\n",
        "\n",
        "artist_factors = artist_learner.model.i_weight.weight\n",
        "\n",
        "artists = pd.read_csv(mpd_unique_artists_file, delimiter=',', encoding='utf-8', header=None,\n",
        "                       names=['artist_uri','artist_name'], skiprows=1)"
      ],
      "execution_count": 24,
      "outputs": []
    },
    {
      "cell_type": "code",
      "metadata": {
        "id": "Bi9ARvcpB8gL"
      },
      "source": [
        "class Rating:\n",
        "  def __init__(self, track_uri, track_name, artist_uri, artist_name, rating, pid):\n",
        "    self.track_uri = track_uri\n",
        "    self.track_name = track_name\n",
        "    self.artist_uri = artist_uri\n",
        "    self.artist_name = artist_name\n",
        "    self.rating = rating\n",
        "    self.pid = pid\n",
        "\n",
        "  def __eq__(self, other):\n",
        "    return self.track_uri == other.track_uri\n",
        "\n",
        "  def __hash__(self):\n",
        "    return hash(('track_uri', self.track_uri))"
      ],
      "execution_count": 9,
      "outputs": []
    },
    {
      "cell_type": "code",
      "metadata": {
        "id": "gG3tNvm1KLbC"
      },
      "source": [
        "def sigmoid(x):\n",
        "  return 2 * (1 / (1 + math.exp(-x)) - 0.5)"
      ],
      "execution_count": 171,
      "outputs": []
    },
    {
      "cell_type": "code",
      "metadata": {
        "id": "8u4w6NP5-Mcm"
      },
      "source": [
        "pid = 330"
      ],
      "execution_count": 198,
      "outputs": []
    },
    {
      "cell_type": "code",
      "metadata": {
        "id": "PKLmJv193YhZ"
      },
      "source": [
        "artist_counts = {}\n",
        "artist_uris = list(playlists.loc[playlists['pid'] == pid]['artist_uri'])\n",
        "for artist_uri in artist_uris:\n",
        "  artist_counts[artist_uri] = artist_uris.count(artist_uri)"
      ],
      "execution_count": 199,
      "outputs": []
    },
    {
      "cell_type": "code",
      "metadata": {
        "id": "VriX8VnO4JEH"
      },
      "source": [
        "similar_artists = []\n",
        "artist_uris = list(artist_counts.keys())\n",
        "for artist_uri in artist_uris:\n",
        "  idx = artist_dls.classes['artist_uri'].o2i[artist_uri]\n",
        "  distances = nn.CosineSimilarity(dim=1)(artist_factors, artist_factors[idx][None])\n",
        "  idxs = distances.argsort(descending=True)[1:4]\n",
        "  similar_artist_uris = list(artist_dls.classes['artist_uri'][idxs])\n",
        "  similar_artists.extend(similar_artist_uris)\n",
        "\n",
        "similar_artists_filtered = [similar_artist for similar_artist in similar_artists if similar_artist not in artist_uris]\n",
        "#artists.loc[artists['artist_uri'].isin(similar_artists_filtered)]"
      ],
      "execution_count": 200,
      "outputs": []
    },
    {
      "cell_type": "code",
      "metadata": {
        "id": "zF_N7gOEJ4fs"
      },
      "source": [
        "playlist_factors = learn.model.u_weight.weight\n",
        "idx = dls.classes['pid'].o2i[pid]\n",
        "distances = nn.CosineSimilarity(dim=1)(playlist_factors, playlist_factors[idx][None])\n",
        "idxs = distances.argsort(descending=True)[1:100]\n",
        "pids = list(dls.classes['pid'][idxs])\n",
        "\n",
        "#playlists_info.loc[playlists_info['pid'].isin(pids)]\n",
        "\n",
        "ratings = []\n",
        "count = 1\n",
        "for p in pids:\n",
        "  track_uris = list(playlists.loc[playlists['pid'] == p]['track_uri'])\n",
        "  track_names = list(playlists.loc[playlists['pid'] == p]['track_name'])\n",
        "  artist_uris = list(playlists.loc[playlists['pid'] == p]['artist_uri'])\n",
        "  artist_names = list(playlists.loc[playlists['pid'] == p]['artist_name'])\n",
        "  for track_uri, track_name, artist_uri, artist_name in zip(track_uris, track_names, artist_uris, artist_names):\n",
        "    rating = Rating(track_uri, track_name, artist_uri, artist_name, count, pid)\n",
        "    ratings.append(rating)\n",
        "  if(count > 0):\n",
        "    count -= 0.05"
      ],
      "execution_count": 201,
      "outputs": []
    },
    {
      "cell_type": "code",
      "metadata": {
        "id": "onqlB-TEB1up"
      },
      "source": [
        "#modfiy rating for same artists\n",
        "for rating in ratings:\n",
        "  if rating.artist_uri in artist_counts:\n",
        "    rating.rating = rating.rating + sigmoid(artist_counts[rating.artist_uri]) #(1 - (1 / (1 + artist_counts[rating.artist_uri])))"
      ],
      "execution_count": 202,
      "outputs": []
    },
    {
      "cell_type": "code",
      "metadata": {
        "id": "yGCAdLWGALTx"
      },
      "source": [
        "#modify rating for similar artists\n",
        "for rating in ratings:\n",
        "  if rating.artist_uri in similar_artists_filtered:\n",
        "    rating.rating = rating.rating + 1"
      ],
      "execution_count": 203,
      "outputs": []
    },
    {
      "cell_type": "code",
      "metadata": {
        "id": "La-t4jTGC-bf",
        "colab": {
          "base_uri": "https://localhost:8080/"
        },
        "outputId": "f192402e-cdc0-4ce5-e686-71fcd01d5405"
      },
      "source": [
        "unique_ratings = list(set(ratings))\n",
        "\n",
        "tracks_of_playlist = list(playlists.loc[playlists['pid'] == pid]['track_uri'])\n",
        "filtered_ratings = [unique_rating for unique_rating in unique_ratings if not unique_rating.track_uri in tracks_of_playlist]\n",
        "\n",
        "filtered_ratings.sort(key=lambda x: x.rating, reverse=True)\n",
        "\n",
        "final_ratings = []\n",
        "for filtered_rating in filtered_ratings:\n",
        "  count = sum(rating.artist_uri == filtered_rating.artist_uri for rating in final_ratings)\n",
        "  if(count < 2):\n",
        "    final_ratings.append(filtered_rating)\n",
        "\n",
        "for rating in final_ratings[:100]:\n",
        "  print(f'{rating.artist_name} - {rating.track_name}: {rating.rating}')"
      ],
      "execution_count": 204,
      "outputs": [
        {
          "output_type": "stream",
          "text": [
            "Sons Of Maria - You & I - Radio Mix: 2\n",
            "Dillon Francis - Coming Over (feat. James Hersey): 2\n",
            "San Holo - We Rise: 2\n",
            "DVBBS - Tsunami: 2\n",
            "Matoma - Running Out: 2\n",
            "Thomas Hayes - Neon - Ryos Remix: 2\n",
            "Matoma - Wonderful Life (Mi Oh My) - from The Angry Birds Movie (Original Motion Picture Soundtrack): 2\n",
            "Just A Gent - Limelight - NGHTMRE Remix: 2\n",
            "Tove Styrke - Borderline - Vanic Remix: 2\n",
            "Zedd - The Legend of Zelda - Club Mix: 2\n",
            "Zedd - Beautiful Now: 2\n",
            "Moguai - Hold On - Radio Edit: 2\n",
            "Timeflies - I Choose U: 2\n",
            "Guy Sebastian - Like a Drum - The Chainsmokers Remix: 2\n",
            "Cash Cash - Take Me Home (feat. Bebe Rexha) - Fareoh Remix Radio Edit: 1.9981778976111988\n",
            "Kygo - Stay: 1.964027580075817\n",
            "Wes Walker - Jordan Belfort (feat. Dyl): 1.95\n",
            "Robin Schulz - Headlights (feat. Ilsey): 1.95\n",
            "Tez Cadey - Seve - Radio Edit: 1.95\n",
            "Mr. Probz - Nothing Really Matters - Afrojack Remix: 1.95\n",
            "Mr. Probz - Waves - Robin Schulz Radio Edit: 1.95\n",
            "WALK THE MOON - Shut Up and Dance: 1.95\n",
            "SNBRN - Raindrops - Radio Edit: 1.95\n",
            "Alexandra Stan - Get Back (Asap): 1.9\n",
            "Shoffy - Takes My Body Higher (feat. Lincoln Jesser): 1.9\n",
            "Alex Newell - Kill The Lights (with Nile Rodgers) - Audien Remix: 1.9\n",
            "Kiiara - Gold: 1.9\n",
            "Martin Jensen - Solo Dance: 1.9\n",
            "POWERS - Sunshine: 1.9\n",
            "Dante Klein - Let Me Hold You (Turn Me On): 1.9\n",
            "Terror Jr - 3 Strikes: 1.9\n",
            "Gryffin - Whole Heart: 1.9\n",
            "Timeflies - Once In a While: 1.9\n",
            "Audien - Crazy Love: 1.8866142981514304\n",
            "Kygo - Raging: 1.8640275800758168\n",
            "KSHMR - Invisible Children: 1.8499999999999999\n",
            "Flux Pavilion - I Can't Stop: 1.8499999999999999\n",
            "Borgeous - Wanna Lose You: 1.8499999999999999\n",
            "Nicky Romero - Let Me Feel - Fedde Le Grand Remix: 1.8499999999999999\n",
            "RUNAGROUND - Stars Come Out - Radio Edit: 1.8499999999999999\n",
            "Michael Brun - See You Soon - Radio Edit: 1.8499999999999999\n",
            "Dimitri Vegas & Like Mike - Mammoth: 1.8499999999999999\n",
            "Deniz Koyu - Follow You (feat. Wynter Gordon) - Original Mix: 1.8499999999999999\n",
            "David Guetta - Dangerous (feat. Sam Martin) - Steve Aoki Remix: 1.8499999999999999\n",
            "Borgeous - Souls: 1.8499999999999999\n",
            "David Guetta - Dangerous (feat. Sam Martin): 1.8499999999999999\n",
            "GOLDHOUSE - FeelGood (Pierce Fulton Radio Edit) [feat. Pierce Fulton]: 1.8499999999999999\n",
            "Cash Cash - Surrender - Dzeko & Torres Remix: 1.8481778976111987\n",
            "Calvin Harris - My Way: 1.8051482536448666\n",
            "Calvin Harris - This Is What You Came For: 1.8051482536448666\n",
            "Madeon - Finale: 1.7999999999999998\n",
            "Hundred Waters - Show Me Love (feat. Chance The Rapper, Moses Sumney and Robin Hannibal) - Skrillex Remix: 1.7999999999999998\n",
            "Madeon - Imperium: 1.7999999999999998\n",
            "Redfoo - Where The Sun Goes (feat. Stevie Wonder) - Future Extended Mix: 1.7999999999999998\n",
            "Chase & Status - Blind Faith: 1.7999999999999998\n",
            "Unlike Pluto - Waiting for You (feat. Joanna Jones): 1.7999999999999998\n",
            "Troye Sivan - YOUTH - Gryffin Remix: 1.7999999999999998\n",
            "Gryffin - Heading Home: 1.7999999999999998\n",
            "ODESZA - Sun Models: 1.7615941559557646\n",
            "Avicii - Waiting For Love: 1.7615941559557646\n",
            "Avicii - The Nights: 1.7615941559557646\n",
            "ODESZA - Bloom: 1.7615941559557646\n",
            "Galantis - In My Head: 1.7615941559557646\n",
            "Galantis - You: 1.7615941559557646\n",
            "Mako - I Won't Let You Walk Away - Lost Kings Remix: 1.7615941559557646\n",
            "Tritonal - Getaway: 1.7615941559557646\n",
            "Afrojack - SummerThing!: 1.7499999999999998\n",
            "Wes Walker - Jordan Belfort: 1.7499999999999998\n",
            "Jason Derulo - Want to Want Me: 1.7499999999999998\n",
            "Robin Schulz - Sugar (feat. Francesco Yates): 1.6999999999999997\n",
            "DJ Snake - Talk: 1.6615941559557645\n",
            "DJ Snake - Let Me Love You: 1.6615941559557645\n",
            "Deorro - Five More Hours - Deorro x Chris Brown: 1.6615941559557645\n",
            "Parra for Cuva - Wicked Games: 1.6499999999999997\n",
            "Mako - Smoke Filled Room - Elephante Remix: 1.6115941559557645\n",
            "Tritonal - Blackout - Radio Edit: 1.6115941559557645\n",
            "Icona Pop - I Love It (feat. Charli XCX) - feat. Charli XCX [Original Version]: 1.5999999999999996\n",
            "SNBRN - Raindrops - Prince Fox Remix: 1.5999999999999996\n",
            "Ookay - Thief: 1.5999999999999996\n",
            "The Naked And Famous - Young Blood: 1.5999999999999996\n",
            "DVBBS - Not Going Home: 1.5999999999999996\n",
            "POWERS - Sunshine - The Knocks Remix: 1.5499999999999996\n",
            "Tim Legend - Hope: 1.5499999999999996\n",
            "Maggie Lindemann - Pretty Girl - Cheat Codes X CADE Remix: 1.5499999999999996\n",
            "Julia Michaels - Issues - Alan Walker Remix: 1.5499999999999996\n",
            "Terror Jr - Sugar: 1.5499999999999996\n",
            "Both - Straight Outta Line - Sunset Child Radio Edit: 1.4999999999999996\n",
            "BUNT. - Old Guitar: 1.4999999999999996\n",
            "BUNT. - Journey Feat. Emma Carn - Radio Mix: 1.4999999999999996\n",
            "Floduxe - Time (feat. Kyle Reynolds): 1.4999999999999996\n",
            "Jason Derulo - Try Me (feat. Jennifer Lopez & Matoma): 1.4999999999999996\n",
            "Alex Newell - Nobody To Love: 1.4999999999999996\n",
            "Martin Garrix - Lions in the Wild: 1.4621171572600098\n",
            "Felix Cartal - Young Love (feat. Koko LaRoo): 1.4621171572600098\n",
            "Tiësto - Secrets - Radio Edit: 1.4621171572600098\n",
            "Steve Aoki - Delirious (Boneless): 1.4621171572600098\n",
            "Milkman - Vagabond (Milkman Remix): 1.4621171572600098\n",
            "Life of Dillon - Overload - The Chainsmokers Remix: 1.4621171572600098\n",
            "ZHU - Faded - Odesza Remix: 1.4621171572600098\n",
            "Hardwell - Mad World - Radio Edit: 1.4621171572600098\n"
          ],
          "name": "stdout"
        }
      ]
    },
    {
      "cell_type": "code",
      "metadata": {
        "id": "4t9CxRXuDhkm"
      },
      "source": [
        ""
      ],
      "execution_count": null,
      "outputs": []
    },
    {
      "cell_type": "markdown",
      "metadata": {
        "id": "uuC1-j39_cW6"
      },
      "source": [
        "## Analysis"
      ]
    },
    {
      "cell_type": "code",
      "metadata": {
        "id": "XmmktKj_5sqB"
      },
      "source": [
        "playlists_info = pd.read_csv(playlists_info_file, delimiter=',', encoding='utf-8', header=None,\n",
        "                       names=['pid','name','num_tracks','num_albums','num_followers','num_artists','duration_ms'], skiprows=1)\n",
        "playlists_info.head()"
      ],
      "execution_count": null,
      "outputs": []
    },
    {
      "cell_type": "code",
      "metadata": {
        "id": "TOx0anVG5udV"
      },
      "source": [
        "def translate_playlist_pid(pids):\n",
        "  return list((playlists_info.loc[playlists_info['pid'] == pid]['name'].iloc[0]) for pid in pids)"
      ],
      "execution_count": null,
      "outputs": []
    },
    {
      "cell_type": "markdown",
      "metadata": {
        "id": "m8RgkLLm50mH"
      },
      "source": [
        "### Plot the most common tracks"
      ]
    },
    {
      "cell_type": "code",
      "metadata": {
        "id": "u2t4u96vWAuV"
      },
      "source": [
        "g = playlists.groupby('track_uri')['rating'].count()\n",
        "top_tracks = g.sort_values(ascending=False).index.values[:1000]\n",
        "top_idxs = tensor([learn.dls.classes['track_uri'].o2i[t] for t in top_tracks])\n",
        "track_w = learn.model.i_weight.weight[top_idxs].cpu().detach()\n",
        "track_pca = track_w.pca(3)\n",
        "fac0,fac1,fac2 = track_pca.t()\n",
        "idxs = list(range(30))\n",
        "X = fac0[idxs]\n",
        "Y = fac2[idxs]\n",
        "plt.figure(figsize=(12,12))\n",
        "plt.scatter(X, Y)\n",
        "for i, x, y in zip(translate_track_uris(top_tracks[idxs]), X, Y):\n",
        "    plt.text(x,y,i, color=np.random.rand(3)*0.7, fontsize=11)\n",
        "plt.show()"
      ],
      "execution_count": null,
      "outputs": []
    },
    {
      "cell_type": "markdown",
      "metadata": {
        "id": "KMz2g4dG6AXK"
      },
      "source": [
        "### Plot the first n playlists"
      ]
    },
    {
      "cell_type": "code",
      "metadata": {
        "id": "IMfrxyOO3pjT"
      },
      "source": [
        "pids = list(range(0, 1000))\n",
        "playlist_w = learn.model.u_weight.weight[pids].cpu().detach()\n",
        "playlists_pca = playlist_w.pca(3)\n",
        "fac0,fac1,fac2 = playlists_pca.t()\n",
        "idxs = list(range(50))\n",
        "X = fac0[idxs]\n",
        "Y = fac2[idxs]\n",
        "plt.figure(figsize=(12,12))\n",
        "plt.scatter(X, Y)\n",
        "for i, x, y in zip(translate_playlist_pid(pids), X, Y):\n",
        "    plt.text(x,y,i, color=np.random.rand(3)*0.7, fontsize=11)\n",
        "plt.show()"
      ],
      "execution_count": null,
      "outputs": []
    }
  ]
}