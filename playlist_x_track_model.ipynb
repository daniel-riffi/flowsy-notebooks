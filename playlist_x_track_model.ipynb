{
  "nbformat": 4,
  "nbformat_minor": 0,
  "metadata": {
    "colab": {
      "name": "playlist_x_track_model.ipynb",
      "provenance": [],
      "collapsed_sections": [
        "2wBQ17of7S3a",
        "WnJHRP3Q3COP",
        "uuC1-j39_cW6",
        "m8RgkLLm50mH",
        "KMz2g4dG6AXK"
      ],
      "authorship_tag": "ABX9TyNeVcqnNZBgaLoyRRzYxH4k",
      "include_colab_link": true
    },
    "kernelspec": {
      "name": "python3",
      "display_name": "Python 3"
    },
    "accelerator": "GPU"
  },
  "cells": [
    {
      "cell_type": "markdown",
      "metadata": {
        "id": "view-in-github",
        "colab_type": "text"
      },
      "source": [
        "<a href=\"https://colab.research.google.com/github/daniel-riffi/flowsy-notebooks/blob/master/playlist_x_track_model.ipynb\" target=\"_parent\"><img src=\"https://colab.research.google.com/assets/colab-badge.svg\" alt=\"Open In Colab\"/></a>"
      ]
    },
    {
      "cell_type": "code",
      "metadata": {
        "id": "f4E39WZqLxgp",
        "outputId": "a52726ad-b222-4c8c-e997-4d57b3937480",
        "colab": {
          "base_uri": "https://localhost:8080/"
        }
      },
      "source": [
        "!pip install -Uqq fastbook\n",
        "import fastbook\n",
        "fastbook.setup_book()"
      ],
      "execution_count": 1,
      "outputs": [
        {
          "output_type": "stream",
          "text": [
            "\u001b[K     |████████████████████████████████| 727kB 6.0MB/s \n",
            "\u001b[K     |████████████████████████████████| 1.1MB 58.2MB/s \n",
            "\u001b[K     |████████████████████████████████| 51kB 9.2MB/s \n",
            "\u001b[K     |████████████████████████████████| 194kB 40.7MB/s \n",
            "\u001b[K     |████████████████████████████████| 51kB 9.4MB/s \n",
            "\u001b[K     |████████████████████████████████| 40kB 6.1MB/s \n",
            "\u001b[K     |████████████████████████████████| 92kB 12.6MB/s \n",
            "\u001b[K     |████████████████████████████████| 51kB 7.3MB/s \n",
            "\u001b[K     |████████████████████████████████| 61kB 10.1MB/s \n",
            "\u001b[K     |████████████████████████████████| 51kB 9.4MB/s \n",
            "\u001b[K     |████████████████████████████████| 2.6MB 63.2MB/s \n",
            "\u001b[?25hMounted at /content/gdrive\n"
          ],
          "name": "stdout"
        }
      ]
    },
    {
      "cell_type": "code",
      "metadata": {
        "id": "KGSQK9dlMLaL"
      },
      "source": [
        "from fastbook import *\n",
        "from fastai.collab import *\n",
        "from fastai.tabular.all import *\n",
        "\n",
        "import heapq\n",
        "import math"
      ],
      "execution_count": 3,
      "outputs": []
    },
    {
      "cell_type": "code",
      "metadata": {
        "id": "0DOJqdGmMUnb",
        "outputId": "15749630-b59b-4d1a-f80b-82e9d4d350a4",
        "colab": {
          "base_uri": "https://localhost:8080/",
          "height": 348
        }
      },
      "source": [
        "base_path = '/content/gdrive/My Drive/schule/diplomarbeit/mpd'\n",
        "path_models = Path('/content/gdrive/My Drive/schule/diplomarbeit/models')\n",
        "mpd_csv_file = f'{base_path}/mpd_slice_0-9999.csv'\n",
        "mpd_unique_tracks_file = f'{base_path}/mpd_slice_0-9999_tracks.csv'\n",
        "playlists_info_file = f'{base_path}/playlists_0-9999.csv'\n",
        "\n",
        "playlists = pd.read_csv(mpd_csv_file, delimiter=',', encoding='utf-8', header=None, low_memory=False,\n",
        "                       names=['pid','track_uri','rating','playlist_name','track_name','artist_uri','artist_name'], skiprows=1)\n",
        "playlists.head()"
      ],
      "execution_count": 4,
      "outputs": [
        {
          "output_type": "execute_result",
          "data": {
            "text/html": [
              "<div>\n",
              "<style scoped>\n",
              "    .dataframe tbody tr th:only-of-type {\n",
              "        vertical-align: middle;\n",
              "    }\n",
              "\n",
              "    .dataframe tbody tr th {\n",
              "        vertical-align: top;\n",
              "    }\n",
              "\n",
              "    .dataframe thead th {\n",
              "        text-align: right;\n",
              "    }\n",
              "</style>\n",
              "<table border=\"1\" class=\"dataframe\">\n",
              "  <thead>\n",
              "    <tr style=\"text-align: right;\">\n",
              "      <th></th>\n",
              "      <th>pid</th>\n",
              "      <th>track_uri</th>\n",
              "      <th>rating</th>\n",
              "      <th>playlist_name</th>\n",
              "      <th>track_name</th>\n",
              "      <th>artist_uri</th>\n",
              "      <th>artist_name</th>\n",
              "    </tr>\n",
              "  </thead>\n",
              "  <tbody>\n",
              "    <tr>\n",
              "      <th>0</th>\n",
              "      <td>0</td>\n",
              "      <td>spotify:track:0UaMYEvWZi0ZqiDOoHU3YI</td>\n",
              "      <td>1</td>\n",
              "      <td>Throwbacks</td>\n",
              "      <td>Lose Control (feat. Ciara &amp; Fat Man Scoop)</td>\n",
              "      <td>spotify:artist:2wIVse2owClT7go1WT98tk</td>\n",
              "      <td>Missy Elliott</td>\n",
              "    </tr>\n",
              "    <tr>\n",
              "      <th>1</th>\n",
              "      <td>0</td>\n",
              "      <td>spotify:track:6I9VzXrHxO9rA9A5euc8Ak</td>\n",
              "      <td>1</td>\n",
              "      <td>Throwbacks</td>\n",
              "      <td>Toxic</td>\n",
              "      <td>spotify:artist:26dSoYclwsYLMAKD3tpOr4</td>\n",
              "      <td>Britney Spears</td>\n",
              "    </tr>\n",
              "    <tr>\n",
              "      <th>2</th>\n",
              "      <td>0</td>\n",
              "      <td>spotify:track:0WqIKmW4BTrj3eJFmnCKMv</td>\n",
              "      <td>1</td>\n",
              "      <td>Throwbacks</td>\n",
              "      <td>Crazy In Love</td>\n",
              "      <td>spotify:artist:6vWDO969PvNqNYHIOW5v0m</td>\n",
              "      <td>Beyoncé</td>\n",
              "    </tr>\n",
              "    <tr>\n",
              "      <th>3</th>\n",
              "      <td>0</td>\n",
              "      <td>spotify:track:1AWQoqb9bSvzTjaLralEkT</td>\n",
              "      <td>1</td>\n",
              "      <td>Throwbacks</td>\n",
              "      <td>Rock Your Body</td>\n",
              "      <td>spotify:artist:31TPClRtHm23RisEBtV3X7</td>\n",
              "      <td>Justin Timberlake</td>\n",
              "    </tr>\n",
              "    <tr>\n",
              "      <th>4</th>\n",
              "      <td>0</td>\n",
              "      <td>spotify:track:1lzr43nnXAijIGYnCT8M8H</td>\n",
              "      <td>1</td>\n",
              "      <td>Throwbacks</td>\n",
              "      <td>It Wasn't Me</td>\n",
              "      <td>spotify:artist:5EvFsr3kj42KNv97ZEnqij</td>\n",
              "      <td>Shaggy</td>\n",
              "    </tr>\n",
              "  </tbody>\n",
              "</table>\n",
              "</div>"
            ],
            "text/plain": [
              "   pid                             track_uri  rating playlist_name  \\\n",
              "0    0  spotify:track:0UaMYEvWZi0ZqiDOoHU3YI       1    Throwbacks   \n",
              "1    0  spotify:track:6I9VzXrHxO9rA9A5euc8Ak       1    Throwbacks   \n",
              "2    0  spotify:track:0WqIKmW4BTrj3eJFmnCKMv       1    Throwbacks   \n",
              "3    0  spotify:track:1AWQoqb9bSvzTjaLralEkT       1    Throwbacks   \n",
              "4    0  spotify:track:1lzr43nnXAijIGYnCT8M8H       1    Throwbacks   \n",
              "\n",
              "                                   track_name  \\\n",
              "0  Lose Control (feat. Ciara & Fat Man Scoop)   \n",
              "1                                       Toxic   \n",
              "2                               Crazy In Love   \n",
              "3                              Rock Your Body   \n",
              "4                                It Wasn't Me   \n",
              "\n",
              "                              artist_uri        artist_name  \n",
              "0  spotify:artist:2wIVse2owClT7go1WT98tk      Missy Elliott  \n",
              "1  spotify:artist:26dSoYclwsYLMAKD3tpOr4     Britney Spears  \n",
              "2  spotify:artist:6vWDO969PvNqNYHIOW5v0m            Beyoncé  \n",
              "3  spotify:artist:31TPClRtHm23RisEBtV3X7  Justin Timberlake  \n",
              "4  spotify:artist:5EvFsr3kj42KNv97ZEnqij             Shaggy  "
            ]
          },
          "metadata": {
            "tags": []
          },
          "execution_count": 4
        }
      ]
    },
    {
      "cell_type": "code",
      "metadata": {
        "id": "SDuveXOiffeo"
      },
      "source": [
        "playlists['rating'] = playlists['rating'].apply(lambda x: x / 10)\n",
        "playlists.head()"
      ],
      "execution_count": null,
      "outputs": []
    },
    {
      "cell_type": "code",
      "metadata": {
        "id": "fHsSi4nSOvfx"
      },
      "source": [
        "dls = CollabDataLoaders.from_df(playlists, item_name='track_uri', bs=64)"
      ],
      "execution_count": null,
      "outputs": []
    },
    {
      "cell_type": "code",
      "metadata": {
        "id": "F8cl6khBO1sc",
        "outputId": "677e88b9-d027-4e46-fe32-bcd7483f9bdc",
        "colab": {
          "base_uri": "https://localhost:8080/",
          "height": 363
        }
      },
      "source": [
        "dls.show_batch()"
      ],
      "execution_count": null,
      "outputs": [
        {
          "output_type": "display_data",
          "data": {
            "text/html": [
              "<table border=\"1\" class=\"dataframe\">\n",
              "  <thead>\n",
              "    <tr style=\"text-align: right;\">\n",
              "      <th></th>\n",
              "      <th>pid</th>\n",
              "      <th>track_uri</th>\n",
              "      <th>rating</th>\n",
              "    </tr>\n",
              "  </thead>\n",
              "  <tbody>\n",
              "    <tr>\n",
              "      <th>0</th>\n",
              "      <td>7942</td>\n",
              "      <td>spotify:track:5ghIJDpPoe3CfHMGu71E6T</td>\n",
              "      <td>1</td>\n",
              "    </tr>\n",
              "    <tr>\n",
              "      <th>1</th>\n",
              "      <td>9244</td>\n",
              "      <td>spotify:track:4yuIJbzzerfKkkopLhr68D</td>\n",
              "      <td>1</td>\n",
              "    </tr>\n",
              "    <tr>\n",
              "      <th>2</th>\n",
              "      <td>7990</td>\n",
              "      <td>spotify:track:7Juu32WsD2Spqg8xdPuHlK</td>\n",
              "      <td>1</td>\n",
              "    </tr>\n",
              "    <tr>\n",
              "      <th>3</th>\n",
              "      <td>7789</td>\n",
              "      <td>spotify:track:4hNPMfFHauPIbOKvdYqFt7</td>\n",
              "      <td>1</td>\n",
              "    </tr>\n",
              "    <tr>\n",
              "      <th>4</th>\n",
              "      <td>1460</td>\n",
              "      <td>spotify:track:4gUDdUr5yK0JGlR49zSRVt</td>\n",
              "      <td>1</td>\n",
              "    </tr>\n",
              "    <tr>\n",
              "      <th>5</th>\n",
              "      <td>7343</td>\n",
              "      <td>spotify:track:1S27YnqoB8VygeNWj2yOa2</td>\n",
              "      <td>1</td>\n",
              "    </tr>\n",
              "    <tr>\n",
              "      <th>6</th>\n",
              "      <td>9471</td>\n",
              "      <td>spotify:track:2MRJJfu5FN6nuVuLwwdVpw</td>\n",
              "      <td>1</td>\n",
              "    </tr>\n",
              "    <tr>\n",
              "      <th>7</th>\n",
              "      <td>7095</td>\n",
              "      <td>spotify:track:6TaqooOXAEcijL6G1AWS2K</td>\n",
              "      <td>1</td>\n",
              "    </tr>\n",
              "    <tr>\n",
              "      <th>8</th>\n",
              "      <td>7486</td>\n",
              "      <td>spotify:track:0QyMDyosGai50pjaFbC1NO</td>\n",
              "      <td>1</td>\n",
              "    </tr>\n",
              "    <tr>\n",
              "      <th>9</th>\n",
              "      <td>225</td>\n",
              "      <td>spotify:track:5XzmZjXhMjDHr7ZfJ6DELQ</td>\n",
              "      <td>1</td>\n",
              "    </tr>\n",
              "  </tbody>\n",
              "</table>"
            ],
            "text/plain": [
              "<IPython.core.display.HTML object>"
            ]
          },
          "metadata": {
            "tags": []
          }
        }
      ]
    },
    {
      "cell_type": "markdown",
      "metadata": {
        "id": "eTbAwNkn7MIm"
      },
      "source": [
        "## Training"
      ]
    },
    {
      "cell_type": "code",
      "metadata": {
        "id": "jN3nD6o_PS4F"
      },
      "source": [
        "learn = collab_learner(dls, n_factors=50, y_range=(0,1.5))\n",
        "learn.path = path_models"
      ],
      "execution_count": null,
      "outputs": []
    },
    {
      "cell_type": "code",
      "metadata": {
        "id": "UH3d1rfNB44h",
        "outputId": "4101c9b1-018b-4af2-d4e5-953f6604e4e4",
        "colab": {
          "base_uri": "https://localhost:8080/",
          "height": 301
        }
      },
      "source": [
        "learn.lr_find()"
      ],
      "execution_count": null,
      "outputs": [
        {
          "output_type": "display_data",
          "data": {
            "text/html": [
              ""
            ],
            "text/plain": [
              "<IPython.core.display.HTML object>"
            ]
          },
          "metadata": {
            "tags": []
          }
        },
        {
          "output_type": "execute_result",
          "data": {
            "text/plain": [
              "SuggestedLRs(lr_min=0.03630780577659607, lr_steep=0.00363078061491251)"
            ]
          },
          "metadata": {
            "tags": []
          },
          "execution_count": 41
        },
        {
          "output_type": "display_data",
          "data": {
            "image/png": "[encoded data removed]",
            "text/plain": [
              "<Figure size 432x288 with 1 Axes>"
            ]
          },
          "metadata": {
            "tags": [],
            "needs_background": "light"
          }
        }
      ]
    },
    {
      "cell_type": "code",
      "metadata": {
        "id": "WG2uVzyVPgF7",
        "outputId": "9f246948-7d3f-48e4-f8d6-27063e8694d6",
        "colab": {
          "base_uri": "https://localhost:8080/",
          "height": 81
        }
      },
      "source": [
        "learn.fit_one_cycle(1, 5e-3)"
      ],
      "execution_count": null,
      "outputs": [
        {
          "output_type": "display_data",
          "data": {
            "text/html": [
              "<table border=\"1\" class=\"dataframe\">\n",
              "  <thead>\n",
              "    <tr style=\"text-align: left;\">\n",
              "      <th>epoch</th>\n",
              "      <th>train_loss</th>\n",
              "      <th>valid_loss</th>\n",
              "      <th>time</th>\n",
              "    </tr>\n",
              "  </thead>\n",
              "  <tbody>\n",
              "    <tr>\n",
              "      <td>0</td>\n",
              "      <td>0.000000</td>\n",
              "      <td>0.000000</td>\n",
              "      <td>07:50</td>\n",
              "    </tr>\n",
              "  </tbody>\n",
              "</table>"
            ],
            "text/plain": [
              "<IPython.core.display.HTML object>"
            ]
          },
          "metadata": {
            "tags": []
          }
        }
      ]
    },
    {
      "cell_type": "code",
      "metadata": {
        "id": "z3CFn38wTCSH"
      },
      "source": [
        "learn.export(fname='playlists_tracks_br_model_v1.pkl')"
      ],
      "execution_count": null,
      "outputs": []
    },
    {
      "cell_type": "code",
      "metadata": {
        "id": "b2E5lLRo2Xqm"
      },
      "source": [
        "learn = load_learner(path/'playlists_tracks_br_model_v1.pkl')\n",
        "dls = learn.dls"
      ],
      "execution_count": null,
      "outputs": []
    },
    {
      "cell_type": "markdown",
      "metadata": {
        "id": "2wBQ17of7S3a"
      },
      "source": [
        "## Flowsy v1"
      ]
    },
    {
      "cell_type": "markdown",
      "metadata": {
        "id": "ChYWblFJ0lIW"
      },
      "source": [
        "### Dot product calculation between latent factors"
      ]
    },
    {
      "cell_type": "code",
      "metadata": {
        "id": "FT2FDxZCPjK4"
      },
      "source": [
        "track_factors = learn.model.i_weight.weight\n",
        "playlist_factors = learn.model.u_weight.weight\n",
        "\n",
        "track_factors.shape, playlist_factors.shape"
      ],
      "execution_count": null,
      "outputs": []
    },
    {
      "cell_type": "code",
      "metadata": {
        "id": "syxSkyXlVNaC"
      },
      "source": [
        "pid = 21\n",
        "idx = dls.classes['pid'].o2i[pid]"
      ],
      "execution_count": null,
      "outputs": []
    },
    {
      "cell_type": "code",
      "metadata": {
        "id": "bWD8OCaFPjuZ"
      },
      "source": [
        "playlists.loc[playlists['pid'] == pid]"
      ],
      "execution_count": null,
      "outputs": []
    },
    {
      "cell_type": "code",
      "metadata": {
        "id": "W9ZBY5JZPj0X"
      },
      "source": [
        "distances = np.array(list((torch.dot(playlist_factors[idx], track_factor) for track_factor in track_factors)))"
      ],
      "execution_count": null,
      "outputs": []
    },
    {
      "cell_type": "code",
      "metadata": {
        "id": "N2WnX5nBUa3v"
      },
      "source": [
        "#sorted = np.sort(distances)[::-1]"
      ],
      "execution_count": null,
      "outputs": []
    },
    {
      "cell_type": "code",
      "metadata": {
        "id": "5_k42x9gB6KN"
      },
      "source": [
        "n = 50 + playlists.loc[playlists['pid'] == pid].shape[0]"
      ],
      "execution_count": null,
      "outputs": []
    },
    {
      "cell_type": "code",
      "metadata": {
        "id": "kwqWZ8IrPj_H"
      },
      "source": [
        "#idx = np.argpartition(distances, -n)[-n:]\n",
        "#indices = idx[np.argsort((-distances)[idx])]\n",
        "#indices"
      ],
      "execution_count": null,
      "outputs": []
    },
    {
      "cell_type": "code",
      "metadata": {
        "id": "oq8l366m1wLY"
      },
      "source": [
        "indices = heapq.nlargest(n, range(len(distances)), distances.take)"
      ],
      "execution_count": null,
      "outputs": []
    },
    {
      "cell_type": "markdown",
      "metadata": {
        "id": "M-uZa5QY6Vme"
      },
      "source": [
        "### Top tracks URI translation and filtering"
      ]
    },
    {
      "cell_type": "code",
      "metadata": {
        "id": "EdIcw-UiPlDn"
      },
      "source": [
        "top_tracks_uris = list((dls.classes['track_uri'][idx] for idx in indices))"
      ],
      "execution_count": null,
      "outputs": []
    },
    {
      "cell_type": "code",
      "metadata": {
        "id": "I5gFtNXWUwVk"
      },
      "source": [
        "tracks = pd.read_csv(mpd_unique_tracks_file, delimiter=',', encoding='utf-8', header=None,\n",
        "                       names=['track_uri','track_name','artist_name'], skiprows=1)"
      ],
      "execution_count": null,
      "outputs": []
    },
    {
      "cell_type": "code",
      "metadata": {
        "id": "TdHEILmDVAko"
      },
      "source": [
        "def translate_track_uris(track_uris):\n",
        "    return list((tracks.loc[tracks['track_uri'] == track_uri]['track_name'].values[0] for track_uri in track_uris))"
      ],
      "execution_count": null,
      "outputs": []
    },
    {
      "cell_type": "code",
      "metadata": {
        "id": "LQng7gYpUif2"
      },
      "source": [
        "tracks_of_playlist = list(playlists.loc[playlists['pid'] == pid]['track_uri'])\n",
        "filtered_top_tracks = [top_track for top_track in top_tracks_uris if not top_track in tracks_of_playlist]"
      ],
      "execution_count": null,
      "outputs": []
    },
    {
      "cell_type": "code",
      "metadata": {
        "id": "d3bwtmJvVmD5"
      },
      "source": [
        "top_tracks = translate_track_uris(filtered_top_tracks)\n",
        "top_tracks[:50], len(top_tracks)"
      ],
      "execution_count": null,
      "outputs": []
    },
    {
      "cell_type": "markdown",
      "metadata": {
        "id": "WnJHRP3Q3COP"
      },
      "source": [
        "## Flowsy v2"
      ]
    },
    {
      "cell_type": "code",
      "metadata": {
        "id": "Bi9ARvcpB8gL"
      },
      "source": [
        "class Rating:\n",
        "  def __init__(self, track_uri, track_name, artist_uri, artist_name, rating, pid):\n",
        "    self.track_uri = track_uri\n",
        "    self.track_name = track_name\n",
        "    self.artist_uri = artist_uri\n",
        "    self.artist_name = artist_name\n",
        "    self.rating = rating\n",
        "    self.pid = pid\n",
        "\n",
        "  def __eq__(self, other):\n",
        "    return self.track_uri == other.track_uri\n",
        "\n",
        "  def __hash__(self):\n",
        "    return hash(('track_uri', self.track_uri))"
      ],
      "execution_count": null,
      "outputs": []
    },
    {
      "cell_type": "code",
      "metadata": {
        "id": "gG3tNvm1KLbC"
      },
      "source": [
        "def sigmoid(x):\n",
        "  return 1 / (1 + math.exp(-x)) - 0.5"
      ],
      "execution_count": null,
      "outputs": []
    },
    {
      "cell_type": "code",
      "metadata": {
        "id": "8u4w6NP5-Mcm"
      },
      "source": [
        "pid = 4039"
      ],
      "execution_count": null,
      "outputs": []
    },
    {
      "cell_type": "code",
      "metadata": {
        "id": "PKLmJv193YhZ"
      },
      "source": [
        "artist_counts = {}\n",
        "artists = list(playlists.loc[playlists['pid'] == pid]['artist_uri'])\n",
        "for artist in artists:\n",
        "  artist_counts[artist] = artists.count(artist)"
      ],
      "execution_count": null,
      "outputs": []
    },
    {
      "cell_type": "code",
      "metadata": {
        "id": "zF_N7gOEJ4fs"
      },
      "source": [
        "playlist_factors = learn.model.u_weight.weight\n",
        "idx = dls.classes['pid'].o2i[pid]\n",
        "distances = nn.CosineSimilarity(dim=1)(playlist_factors, playlist_factors[idx][None])\n",
        "idxs = distances.argsort(descending=True)[1:100]\n",
        "pids = list(dls.classes['pid'][idxs])\n",
        "\n",
        "#playlists_info.loc[playlists_info['pid'].isin(pids)]\n",
        "\n",
        "ratings = []\n",
        "count = 1\n",
        "for p in pids:\n",
        "  track_uris = list(playlists.loc[playlists['pid'] == p]['track_uri'])\n",
        "  track_names = list(playlists.loc[playlists['pid'] == p]['track_name'])\n",
        "  artist_uris = list(playlists.loc[playlists['pid'] == p]['artist_uri'])\n",
        "  artist_names = list(playlists.loc[playlists['pid'] == p]['artist_name'])\n",
        "  for track_uri, track_name, artist_uri, artist_name in zip(track_uris, track_names, artist_uris, artist_names):\n",
        "    rating = Rating(track_uri, track_name, artist_uri, artist_name, 1 / count, pid)\n",
        "    ratings.append(rating)\n",
        "  count += 1"
      ],
      "execution_count": null,
      "outputs": []
    },
    {
      "cell_type": "code",
      "metadata": {
        "id": "onqlB-TEB1up"
      },
      "source": [
        "for rating in ratings:\n",
        "  if rating.artist_uri in artist_counts:\n",
        "    rating.rating = rating.rating + sigmoid(artist_counts[rating.artist_uri])#(1 - (1 / (1 + artist_counts[rating.artist_uri])))"
      ],
      "execution_count": null,
      "outputs": []
    },
    {
      "cell_type": "code",
      "metadata": {
        "id": "La-t4jTGC-bf",
        "outputId": "0104d71c-1e1b-4cad-c02f-54b0edf2afcd",
        "colab": {
          "base_uri": "https://localhost:8080/"
        }
      },
      "source": [
        "unique_ratings = list(set(ratings))\n",
        "\n",
        "tracks_of_playlist = list(playlists.loc[playlists['pid'] == pid]['track_uri'])\n",
        "filtered_ratings = [unique_rating for unique_rating in unique_ratings if not unique_rating.track_uri in tracks_of_playlist]\n",
        "\n",
        "filtered_ratings.sort(key=lambda x: x.rating, reverse=True)\n",
        "\n",
        "for rating in filtered_ratings[:100]:\n",
        "  print(f'{rating.artist_name} - {rating.track_name}: {rating.rating}')"
      ],
      "execution_count": null,
      "outputs": [
        {
          "output_type": "stream",
          "text": [
            "Maroon 5 - She Will Be Loved - Radio Mix: 1.4933071490757153\n",
            "Maroon 5 - Sunday Morning: 1.4933071490757153\n",
            "Matt Nathanson - Come On Get Higher: 1.0\n",
            "Chase Rice - Carolina Can: 1.0\n",
            "John Mayer - Daughters: 1.0\n",
            "Train - Meet Virginia: 1.0\n",
            "The Fray - Over My Head (Cable Car) [Acoustic] - Live: 1.0\n",
            "Five For Fighting - 100 Years: 1.0\n",
            "Jason Mraz - Lucky: 1.0\n",
            "Lifehouse - You And Me: 1.0\n",
            "Israel Kamakawiwo'ole - Over The Rainbow: 1.0\n",
            "Weezer - Island In The Sun: 1.0\n",
            "Howie Day - Collide - Acoustic Version: 1.0\n",
            "Glee Cast - Marry You (Glee Cast Version): 1.0\n",
            "John Mayer - Waiting On the World to Change: 1.0\n",
            "Train - Marry Me: 1.0\n",
            "Ed Sheeran - ...Baby One More Time - Recorded at Spotify Studios NYC: 1.0\n",
            "Ingrid Michaelson - You and I: 1.0\n",
            "The Goo Goo Dolls - Iris: 1.0\n",
            "The Goo Goo Dolls - Acoustic #3: 1.0\n",
            "Jack Johnson - Better Together: 1.0\n",
            "Counting Crows - Big Yellow Taxi: 1.0\n",
            "Train - Calling All Angels: 1.0\n",
            "Amy Winehouse - Valerie - Live At BBC Radio 1 Live Lounge, London / 2007: 1.0\n",
            "James Taylor - Carolina In My Mind: 1.0\n",
            "Ed Sheeran - Tenerife Sea: 1.0\n",
            "Rihanna - Shut Up And Drive: 1.0\n",
            "Maroon 5 - Maps: 0.7433071490757153\n",
            "Maroon 5 - Payphone: 0.6044182601868264\n",
            "Maroon 5 - Don't Wanna Know (feat. Kendrick Lamar): 0.5933071490757152\n",
            "Maroon 5 - Animals: 0.5558071490757153\n",
            "Maroon 5 - Love Somebody: 0.5210849268534931\n",
            "Maroon 5 - One More Night: 0.5150462795104979\n",
            "Maroon 5 - Harder To Breathe: 0.5121750736040172\n",
            "Maroon 5 - This Love: 0.5121750736040172\n",
            "Maroon 5 - Won't Go Home Without You: 0.5111642919328582\n",
            "Maroon 5 - Moves Like Jagger - Studio Recording From The Voice Performance: 0.5094361813337798\n",
            "Maroon 5 - Misery: 0.5084586642272304\n",
            "Maroon 5 - If I Never See Your Face Again: 0.5084586642272304\n",
            "Maroon 5 - Sugar: 0.5084586642272304\n",
            "Maroon 5 - Wake Up Call: 0.5084586642272304\n",
            "Maroon 5 - Lucky Strike: 0.5064650438125574\n",
            "Maroon 5 - Stutter: 0.5039454469480557\n",
            "Maroon 5 - The Man Who Never Lied: 0.5039454469480557\n",
            "Maroon 5 - Tickets: 0.5039454469480557\n",
            "Maroon 5 - Give A Little More: 0.5039454469480557\n",
            "Maroon 5 - Ladykiller: 0.5039454469480557\n",
            "Maroon 5 - Hands All Over: 0.5039454469480557\n",
            "Maroon 5 - Get Back In My Life: 0.5039454469480557\n",
            "Maroon 5 - Cold (feat. Future): 0.5035112307083683\n",
            "Maroon 5 - This Summer: 0.5035112307083683\n",
            "Nickelback - If Everyone Cared: 0.5001931744414809\n",
            "Nickelback - Trying Not To Love You: 0.5001931744414809\n",
            "Nickelback - Savin' Me: 0.5001931744414809\n",
            "Michael Bublé - Haven't Met You Yet: 0.5\n",
            "Amos Lee - Sweet Pea: 0.5\n",
            "Lily Allen - 22: 0.5\n",
            "American Authors - Best Day Of My Life: 0.5\n",
            "Shane Harper - Rocketship - Acoustic: 0.5\n",
            "April Smith and the Great Picture Show - Movie Loves A Screen: 0.5\n",
            "Grace Potter - Something That I Want: 0.5\n",
            "Two Door Cinema Club - Something Good Can Work: 0.5\n",
            "Sara Bareilles - Brave: 0.5\n",
            "Anna Nalick - Breathe (2 AM): 0.5\n",
            "Owl City - Fireflies: 0.5\n",
            "Barry Louis Polisar - All I Want Is You: 0.5\n",
            "Michael Bublé - Feeling Good: 0.5\n",
            "Kacey Musgraves - Biscuits: 0.5\n",
            "Kate Nash - Foundations - Full Version: 0.5\n",
            "John Mayer - Your Body Is a Wonderland: 0.5\n",
            "Noah And The Whale - 5 Years Time: 0.5\n",
            "Sara Bareilles - Uncharted: 0.5\n",
            "Lenka - Trouble Is a Friend: 0.5\n",
            "Chairlift - Bruises: 0.5\n",
            "Ingrid Michaelson - Girls Chase Boys: 0.5\n",
            "Owl City - Hello Seattle: 0.5\n",
            "Jack Johnson - Bubble Toes: 0.5\n",
            "Ingrid Michaelson - Be Ok: 0.5\n",
            "Shawn Mendes - Stitches: 0.5\n",
            "Kate Nash - Merry Happy: 0.5\n",
            "Little Big Town - Tornado: 0.5\n",
            "Kate Nash - Kiss That Grrrl: 0.5\n",
            "Lily Allen - LDN: 0.5\n",
            "Nickelback - Miss You: 0.46795874220704875\n",
            "Nickelback - Someday: 0.4677256419739485\n",
            "Nickelback - If Today Was Your Last Day: 0.4677256419739485\n",
            "Nickelback - Flat On The Floor: 0.4677256419739485\n",
            "Nickelback - Rockstar: 0.4677256419739485\n",
            "Nickelback - Animals: 0.4677256419739485\n",
            "Nickelback - Next Contestant: 0.4677256419739485\n",
            "Nickelback - Figured You Out: 0.4677256419739485\n",
            "Nickelback - How You Remind Me - LP Mix: 0.4677256419739485\n",
            "Nickelback - Gotta Be Somebody: 0.4639377631860697\n",
            "Olly Murs - Dance with Me Tonight: 0.4310585786300049\n",
            "The Neighbourhood - Sweater Weather: 0.37391572148714775\n",
            "David Guetta - Titanium (feat. Sia) - feat. Sia: 0.342169689741116\n",
            "Drake - The Motto: 0.3333333333333333\n",
            "Katie Herzig - Free My Mind: 0.3333333333333333\n",
            "Vampire Weekend - Horchata: 0.3333333333333333\n",
            "Robin Thicke - Blurred Lines: 0.3333333333333333\n"
          ],
          "name": "stdout"
        }
      ]
    },
    {
      "cell_type": "code",
      "metadata": {
        "id": "4t9CxRXuDhkm"
      },
      "source": [
        ""
      ],
      "execution_count": null,
      "outputs": []
    },
    {
      "cell_type": "markdown",
      "metadata": {
        "id": "uuC1-j39_cW6"
      },
      "source": [
        "## Analysis"
      ]
    },
    {
      "cell_type": "code",
      "metadata": {
        "id": "XmmktKj_5sqB"
      },
      "source": [
        "playlists_info = pd.read_csv(playlists_info_file, delimiter=',', encoding='utf-8', header=None,\n",
        "                       names=['pid','name','num_tracks','num_albums','num_followers','num_artists','duration_ms'], skiprows=1)\n",
        "playlists_info.head()"
      ],
      "execution_count": null,
      "outputs": []
    },
    {
      "cell_type": "code",
      "metadata": {
        "id": "TOx0anVG5udV"
      },
      "source": [
        "def translate_playlist_pid(pids):\n",
        "  return list((playlists_info.loc[playlists_info['pid'] == pid]['name'].iloc[0]) for pid in pids)"
      ],
      "execution_count": null,
      "outputs": []
    },
    {
      "cell_type": "markdown",
      "metadata": {
        "id": "m8RgkLLm50mH"
      },
      "source": [
        "### Plot the most common tracks"
      ]
    },
    {
      "cell_type": "code",
      "metadata": {
        "id": "u2t4u96vWAuV"
      },
      "source": [
        "g = playlists.groupby('track_uri')['rating'].count()\n",
        "top_tracks = g.sort_values(ascending=False).index.values[:1000]\n",
        "top_idxs = tensor([learn.dls.classes['track_uri'].o2i[t] for t in top_tracks])\n",
        "track_w = learn.model.i_weight.weight[top_idxs].cpu().detach()\n",
        "track_pca = track_w.pca(3)\n",
        "fac0,fac1,fac2 = track_pca.t()\n",
        "idxs = list(range(30))\n",
        "X = fac0[idxs]\n",
        "Y = fac2[idxs]\n",
        "plt.figure(figsize=(12,12))\n",
        "plt.scatter(X, Y)\n",
        "for i, x, y in zip(translate_track_uris(top_tracks[idxs]), X, Y):\n",
        "    plt.text(x,y,i, color=np.random.rand(3)*0.7, fontsize=11)\n",
        "plt.show()"
      ],
      "execution_count": null,
      "outputs": []
    },
    {
      "cell_type": "markdown",
      "metadata": {
        "id": "KMz2g4dG6AXK"
      },
      "source": [
        "### Plot the first n playlists"
      ]
    },
    {
      "cell_type": "code",
      "metadata": {
        "id": "IMfrxyOO3pjT"
      },
      "source": [
        "pids = list(range(0, 1000))\n",
        "playlist_w = learn.model.u_weight.weight[pids].cpu().detach()\n",
        "playlists_pca = playlist_w.pca(3)\n",
        "fac0,fac1,fac2 = playlists_pca.t()\n",
        "idxs = list(range(50))\n",
        "X = fac0[idxs]\n",
        "Y = fac2[idxs]\n",
        "plt.figure(figsize=(12,12))\n",
        "plt.scatter(X, Y)\n",
        "for i, x, y in zip(translate_playlist_pid(pids), X, Y):\n",
        "    plt.text(x,y,i, color=np.random.rand(3)*0.7, fontsize=11)\n",
        "plt.show()"
      ],
      "execution_count": null,
      "outputs": []
    }
  ]
}