{
 "cells": [
  {
   "cell_type": "code",
   "execution_count": 1,
   "metadata": {},
   "outputs": [],
   "source": [
    "import json\n",
    "import csv\n",
    "import pandas as pd\n",
    "import random as rd\n",
    "\n",
    "import requests\n",
    "import datetime\n",
    "import base64\n",
    "from urllib.parse import urlencode"
   ]
  },
  {
   "cell_type": "markdown",
   "metadata": {},
   "source": [
    "## Spotify API Client setup"
   ]
  },
  {
   "cell_type": "code",
   "execution_count": 2,
   "metadata": {},
   "outputs": [],
   "source": [
    "client_id = '7605835d7b0c4efd952bb9b511d824dc'\n",
    "client_secret = '57cdae8d450c49f1b8b851f1fb4c31d7'"
   ]
  },
  {
   "cell_type": "code",
   "execution_count": 3,
   "metadata": {},
   "outputs": [],
   "source": [
    "class SpotifyAPI(object):\n",
    "    access_token = None\n",
    "    access_token_expires = datetime.datetime.now()\n",
    "    access_token_did_expire = True\n",
    "    client_id = None\n",
    "    client_secret = None\n",
    "    token_url = 'https://accounts.spotify.com/api/token'\n",
    "    \n",
    "    def __init__(self, client_id, client_secret, *args, **kwargs):\n",
    "        super().__init__(*args, **kwargs)\n",
    "        self.client_id = client_id\n",
    "        self.client_secret = client_secret\n",
    "    \n",
    "    def get_client_credentials(self):\n",
    "        client_id = self.client_id\n",
    "        client_secret = self.client_secret\n",
    "        if client_secret == None or client_id == None:\n",
    "            raise Exception('You must set client_id and client_secret')\n",
    "        client_creds = f'{client_id}:{client_secret}'\n",
    "        client_creds_b64 = base64.b64encode(client_creds.encode())\n",
    "        return client_creds_b64.decode()\n",
    "    \n",
    "    def get_token_headers(self):\n",
    "        client_creds_b64 = self.get_client_credentials()\n",
    "        return {\n",
    "            'Authorization': f'Basic {client_creds_b64}'\n",
    "        }\n",
    "    \n",
    "    def get_token_data(self):\n",
    "        return {\n",
    "            'grant_type': 'client_credentials'\n",
    "        }\n",
    "    \n",
    "    def perform_auth(self):\n",
    "        token_url = self.token_url\n",
    "        token_data = self.get_token_data()\n",
    "        token_headers = self.get_token_headers()\n",
    "        r = requests.post(token_url, data=token_data, headers=token_headers)\n",
    "        if r.status_code not in range(200, 299):\n",
    "            print(r)\n",
    "            return False\n",
    "        data = r.json()\n",
    "        now = datetime.datetime.now()\n",
    "        access_token = data['access_token']\n",
    "        expires_in = data['expires_in']\n",
    "        expires = now + datetime.timedelta(seconds=expires_in)\n",
    "        self.access_token = access_token\n",
    "        self.access_token_expires = expires\n",
    "        self.access_token_did_expire = expires < now\n",
    "        return True"
   ]
  },
  {
   "cell_type": "code",
   "execution_count": 4,
   "metadata": {},
   "outputs": [
    {
     "data": {
      "text/plain": [
       "True"
      ]
     },
     "execution_count": 4,
     "metadata": {},
     "output_type": "execute_result"
    }
   ],
   "source": [
    "client = SpotifyAPI(client_id, client_secret)\n",
    "client.perform_auth()"
   ]
  },
  {
   "cell_type": "code",
   "execution_count": 123,
   "metadata": {},
   "outputs": [],
   "source": [
    "headers = {\n",
    "    'Authorization': f'Bearer {client.access_token}'\n",
    "}"
   ]
  },
  {
   "cell_type": "markdown",
   "metadata": {},
   "source": [
    "# Spotify million playlists dataset conversions"
   ]
  },
  {
   "cell_type": "code",
   "execution_count": 2,
   "metadata": {},
   "outputs": [],
   "source": [
    "path_base = 'D:\\schule\\diplomarbeit\\spotify_million_playlist_dataset\\data'\n",
    "n_playlists = 10000"
   ]
  },
  {
   "cell_type": "markdown",
   "metadata": {},
   "source": [
    "## Training dataset - URM (Playlists x Tracks)\n",
    "#### Format:\n",
    "pid, track_uri, rating, playlist_name, track_name, artist_name"
   ]
  },
  {
   "cell_type": "code",
   "execution_count": 25,
   "metadata": {},
   "outputs": [],
   "source": [
    "song_playlist_rows = []\n",
    "for i in range(0, n_playlists, 1000):\n",
    "    path = f'{path_base}\\mpd.slice.{i}-{i+999}.json'\n",
    "    d = json.load(open(path, 'r'))\n",
    "    mpd_slice = pd.DataFrame.from_dict(d['playlists'], orient='columns')\n",
    "    for index, row in mpd_slice.iterrows():\n",
    "        for track in row['tracks']:\n",
    "            song_playlist_rows.append([row['pid'], track['track_uri'], 1, row['name'], track['track_name'], track['artist_uri'], track['artist_name']])\n",
    "mpd_df = pd.DataFrame(song_playlist_rows, columns=['pid', 'track_uri', 'rating', 'playlist_name', 'track_name', 'artist_uri','artist_name'])\n",
    "mpd_df.to_csv(f'D:\\schule\\diplomarbeit\\converted_csv\\mpd_slice_0-{n_playlists-1}.csv', index=False)"
   ]
  },
  {
   "cell_type": "markdown",
   "metadata": {},
   "source": [
    "## Training dataset - URM (Playlists x Artists)\n",
    "#### Format:\n",
    "pid, artist_uri, rating, playlist_name, artist_name, track_uri, track_name"
   ]
  },
  {
   "cell_type": "code",
   "execution_count": 24,
   "metadata": {},
   "outputs": [],
   "source": [
    "artist_playlist_rows = []\n",
    "for i in range(0, n_playlists, 1000):\n",
    "    path = f'{path_base}\\mpd.slice.{i}-{i+999}.json'\n",
    "    d = json.load(open(path, 'r'))\n",
    "    mpd_slice = pd.DataFrame.from_dict(d['playlists'], orient='columns')\n",
    "    for index, row in mpd_slice.iterrows():\n",
    "        tracks = row['tracks']\n",
    "        for track in tracks:\n",
    "            artist_uri = track['artist_uri']\n",
    "            count = len(list((track_i['artist_uri'] for track_i in tracks if track_i['artist_uri'] == artist_uri)))\n",
    "            rating = 1 - (1 / (1 + count))\n",
    "            artist_playlist_rows.append([row['pid'], track['artist_uri'], rating, row['name'], track['artist_name'], track['track_uri'], track['track_name']])\n",
    "mpd_df = pd.DataFrame(artist_playlist_rows, columns=['pid', 'artist_uri', 'rating', 'playlist_name', 'artist_name', 'track_uri', 'track_name'])\n",
    "mpd_df.to_csv(f'D:\\schule\\diplomarbeit\\converted_csv\\playlists_x_artists_0-{n_playlists-1}_occ_playlist.csv', index=False)"
   ]
  },
  {
   "cell_type": "markdown",
   "metadata": {},
   "source": [
    "## Unique tracks\n",
    "#### Format:\n",
    "track_uri, track_name, artist_uri, artist_name, album_uri, album_name, duration_ms"
   ]
  },
  {
   "cell_type": "code",
   "execution_count": 3,
   "metadata": {},
   "outputs": [],
   "source": [
    "track_rows = []\n",
    "for i in range(0, n_playlists, 1000):\n",
    "    path = f'{path_base}\\mpd.slice.{i}-{i+999}.json'\n",
    "    d = json.load(open(path, 'r'))\n",
    "    mpd_slice = pd.DataFrame.from_dict(d['playlists'], orient='columns')\n",
    "    for index, row in mpd_slice.iterrows():\n",
    "        for track in row['tracks']:\n",
    "            track_rows.append([track['track_uri'], track['track_name'], track['artist_uri'], track['artist_name'], track['album_uri'], track['album_name'], track['duration_ms']])\n",
    "mpd_df = pd.DataFrame(track_rows, columns=['track_uri', 'track_name', 'artist_uri', 'artist_name', 'album_uri', 'album_name', 'duration_ms'])\n",
    "mpd_df.drop_duplicates(subset='track_uri', keep='first', inplace=True)\n",
    "mpd_df.to_csv(f'D:\\\\schule\\\\diplomarbeit\\\\converted_csv\\\\unique_tracks_0-{n_playlists-1}.csv', index=False)"
   ]
  },
  {
   "cell_type": "markdown",
   "metadata": {},
   "source": [
    "## Unique artists\n",
    "#### Format:\n",
    "artist_uri, artist_name"
   ]
  },
  {
   "cell_type": "code",
   "execution_count": 5,
   "metadata": {},
   "outputs": [],
   "source": [
    "artist_rows = []\n",
    "for i in range(0, n_playlists, 1000):\n",
    "    path = f'{path_base}\\mpd.slice.{i}-{i+999}.json'\n",
    "    d = json.load(open(path, 'r'))\n",
    "    mpd_slice = pd.DataFrame.from_dict(d['playlists'], orient='columns')\n",
    "    for index, row in mpd_slice.iterrows():\n",
    "        for track in row['tracks']:\n",
    "            artist_rows.append([track['artist_uri'], track['artist_name']])\n",
    "mpd_df = pd.DataFrame(artist_rows, columns=['artist_uri', 'artist_name'])\n",
    "mpd_df.drop_duplicates(subset='artist_uri', keep='first', inplace=True)\n",
    "mpd_df.to_csv(f'D:\\\\schule\\\\diplomarbeit\\\\converted_csv\\\\unique_artists_0-{n_playlists-1}.csv', index=False)"
   ]
  },
  {
   "cell_type": "markdown",
   "metadata": {},
   "source": [
    "## Playlist information\n",
    "#### Format:\n",
    "pid, name, num_tracks, num_albums, num_followers, num_artists, duration_ms"
   ]
  },
  {
   "cell_type": "code",
   "execution_count": 8,
   "metadata": {},
   "outputs": [],
   "source": [
    "playlist_rows = []\n",
    "for i in range(0, n_playlists, 1000):\n",
    "    path = f'{path_base}\\mpd.slice.{i}-{i+999}.json'\n",
    "    d = json.load(open(path, 'r'))\n",
    "    mpd_slice = pd.DataFrame.from_dict(d['playlists'], orient='columns')\n",
    "    for index, row in mpd_slice.iterrows():\n",
    "        playlist_rows.append([row['pid'], row['name'], row['num_tracks'], row['num_albums'], row['num_followers'], row['num_artists'], row['duration_ms']])\n",
    "mpd_df = pd.DataFrame(playlist_rows, columns=['pid', 'name', 'num_tracks', 'num_albums', 'num_followers', 'num_artists', 'duration_ms'])\n",
    "mpd_df.to_csv(f'D:\\\\schule\\\\diplomarbeit\\\\converted_csv\\\\playlists_0-{n_playlists-1}.csv', index=False)"
   ]
  },
  {
   "cell_type": "markdown",
   "metadata": {},
   "source": [
    "## Minimized and combined MPD\n",
    "#### Format:\n",
    "<img src=\"./minimized_mpd_json.png\" height=\"500\" width=\"500\">"
   ]
  },
  {
   "cell_type": "code",
   "execution_count": 7,
   "metadata": {},
   "outputs": [],
   "source": [
    "playlists = []\n",
    "for i in range(0, n_playlists, 1000):\n",
    "    path = f'{path_base}\\mpd.slice.{i}-{i+999}.json'\n",
    "    mpd_slice = json.load(open(path, 'r'))\n",
    "    del mpd_slice['info']\n",
    "    for playlist in mpd_slice['playlists']:\n",
    "        del playlist['collaborative']\n",
    "        del playlist['modified_at']\n",
    "        del playlist['num_edits']\n",
    "    playlists.extend(mpd_slice['playlists'])\n",
    "    \n",
    "with open(f'minimized_mpd_0-{n_playlists-1}.json', 'w') as f:\n",
    "    json.dump(playlists, f, indent=4)"
   ]
  },
  {
   "cell_type": "markdown",
   "metadata": {},
   "source": [
    "## Unique tracks\n",
    "#### Format:\n",
    "<img src=\"./unique_tracks_json.png\" height=\"500\" width=\"500\">"
   ]
  },
  {
   "cell_type": "code",
   "execution_count": 5,
   "metadata": {},
   "outputs": [],
   "source": [
    "unique_tracks_csv_file = \"D:\\\\schule\\\\diplomarbeit\\\\converted_csv\\\\unique_tracks_0-9999.csv\"\n",
    "unique_tracks_json_file = \"D:\\\\schule\\\\diplomarbeit\\\\converted_json\\\\unique_tracks_0-9999.json\"\n",
    "tracks = pd.read_csv(unique_tracks_csv_file, delimiter=',', encoding='utf-8', header=None, low_memory=False,\n",
    "                       names=['track_uri','track_name','artist_uri','artist_name','album_uri','album_name','duration_ms'], skiprows=1)\n",
    "tracks.to_json(unique_tracks_json_file, orient='records', indent=4)"
   ]
  },
  {
   "cell_type": "markdown",
   "metadata": {},
   "source": [
    "# Spotify API"
   ]
  },
  {
   "cell_type": "markdown",
   "metadata": {},
   "source": [
    "**Extract popularity for each track from spotify api**"
   ]
  },
  {
   "cell_type": "code",
   "execution_count": 124,
   "metadata": {},
   "outputs": [],
   "source": [
    "endpoint = 'https://api.spotify.com/v1/tracks/?ids='\n",
    "def get_popularities_of_tracks(chunk):\n",
    "    splitted = list((uri.split(':')[2] for uri in chunk))\n",
    "    params = ','.join(splitted)\n",
    "    lookup_url = f'{endpoint}{params}'\n",
    "    j = requests.get(lookup_url, headers=headers).json()\n",
    "    popularities = []\n",
    "    for track in j['tracks']:\n",
    "        if(track is None):\n",
    "            popularities.append(0)\n",
    "            continue\n",
    "        popularities.append(track['popularity'])\n",
    "    return popularities"
   ]
  },
  {
   "cell_type": "code",
   "execution_count": 125,
   "metadata": {},
   "outputs": [],
   "source": [
    "unique_tracks_file = \"D:\\\\schule\\\\diplomarbeit\\\\converted_csv\\\\unique_tracks_0-1999.csv\""
   ]
  },
  {
   "cell_type": "code",
   "execution_count": 126,
   "metadata": {},
   "outputs": [
    {
     "data": {
      "text/html": [
       "<div>\n",
       "<style scoped>\n",
       "    .dataframe tbody tr th:only-of-type {\n",
       "        vertical-align: middle;\n",
       "    }\n",
       "\n",
       "    .dataframe tbody tr th {\n",
       "        vertical-align: top;\n",
       "    }\n",
       "\n",
       "    .dataframe thead th {\n",
       "        text-align: right;\n",
       "    }\n",
       "</style>\n",
       "<table border=\"1\" class=\"dataframe\">\n",
       "  <thead>\n",
       "    <tr style=\"text-align: right;\">\n",
       "      <th></th>\n",
       "      <th>track_uri</th>\n",
       "      <th>track_name</th>\n",
       "      <th>artist_name</th>\n",
       "    </tr>\n",
       "  </thead>\n",
       "  <tbody>\n",
       "    <tr>\n",
       "      <th>0</th>\n",
       "      <td>spotify:track:0UaMYEvWZi0ZqiDOoHU3YI</td>\n",
       "      <td>Lose Control (feat. Ciara &amp; Fat Man Scoop)</td>\n",
       "      <td>Missy Elliott</td>\n",
       "    </tr>\n",
       "    <tr>\n",
       "      <th>1</th>\n",
       "      <td>spotify:track:6I9VzXrHxO9rA9A5euc8Ak</td>\n",
       "      <td>Toxic</td>\n",
       "      <td>Britney Spears</td>\n",
       "    </tr>\n",
       "    <tr>\n",
       "      <th>2</th>\n",
       "      <td>spotify:track:0WqIKmW4BTrj3eJFmnCKMv</td>\n",
       "      <td>Crazy In Love</td>\n",
       "      <td>Beyoncé</td>\n",
       "    </tr>\n",
       "    <tr>\n",
       "      <th>3</th>\n",
       "      <td>spotify:track:1AWQoqb9bSvzTjaLralEkT</td>\n",
       "      <td>Rock Your Body</td>\n",
       "      <td>Justin Timberlake</td>\n",
       "    </tr>\n",
       "    <tr>\n",
       "      <th>4</th>\n",
       "      <td>spotify:track:1lzr43nnXAijIGYnCT8M8H</td>\n",
       "      <td>It Wasn't Me</td>\n",
       "      <td>Shaggy</td>\n",
       "    </tr>\n",
       "  </tbody>\n",
       "</table>\n",
       "</div>"
      ],
      "text/plain": [
       "                              track_uri  \\\n",
       "0  spotify:track:0UaMYEvWZi0ZqiDOoHU3YI   \n",
       "1  spotify:track:6I9VzXrHxO9rA9A5euc8Ak   \n",
       "2  spotify:track:0WqIKmW4BTrj3eJFmnCKMv   \n",
       "3  spotify:track:1AWQoqb9bSvzTjaLralEkT   \n",
       "4  spotify:track:1lzr43nnXAijIGYnCT8M8H   \n",
       "\n",
       "                                   track_name        artist_name  \n",
       "0  Lose Control (feat. Ciara & Fat Man Scoop)      Missy Elliott  \n",
       "1                                       Toxic     Britney Spears  \n",
       "2                               Crazy In Love            Beyoncé  \n",
       "3                              Rock Your Body  Justin Timberlake  \n",
       "4                                It Wasn't Me             Shaggy  "
      ]
     },
     "execution_count": 126,
     "metadata": {},
     "output_type": "execute_result"
    }
   ],
   "source": [
    "tracks = pd.read_csv(unique_tracks_file, delimiter=',', encoding='utf-8', header=None, low_memory=False,\n",
    "                       names=['track_uri','track_name','artist_name'], skiprows=1)\n",
    "tracks.head()"
   ]
  },
  {
   "cell_type": "code",
   "execution_count": 128,
   "metadata": {},
   "outputs": [],
   "source": [
    "chunks = [tracks[x:x+50]['track_uri'] for x in range(0, len(tracks), 50)]"
   ]
  },
  {
   "cell_type": "code",
   "execution_count": 129,
   "metadata": {},
   "outputs": [
    {
     "name": "stdout",
     "output_type": "stream",
     "text": [
      "57884\n"
     ]
    }
   ],
   "source": [
    "popularity_list = []\n",
    "for chunk in chunks:\n",
    "    popularity_list.extend(get_popularities_of_tracks(list(chunk)))\n",
    "print(len(popularity_list))"
   ]
  },
  {
   "cell_type": "code",
   "execution_count": 331,
   "metadata": {},
   "outputs": [],
   "source": [
    "backup = popularity_list.copy()"
   ]
  },
  {
   "cell_type": "code",
   "execution_count": 333,
   "metadata": {},
   "outputs": [
    {
     "data": {
      "text/plain": [
       "43722"
      ]
     },
     "execution_count": 333,
     "metadata": {},
     "output_type": "execute_result"
    }
   ],
   "source": [
    "popularity_list.count(0)"
   ]
  },
  {
   "cell_type": "code",
   "execution_count": 130,
   "metadata": {},
   "outputs": [],
   "source": [
    "non_zero = list((popularity for popularity in popularity_list if popularity != 0))"
   ]
  },
  {
   "cell_type": "code",
   "execution_count": 131,
   "metadata": {},
   "outputs": [],
   "source": [
    "average = round(sum(non_zero) / len(non_zero))"
   ]
  },
  {
   "cell_type": "code",
   "execution_count": 345,
   "metadata": {},
   "outputs": [
    {
     "data": {
      "text/plain": [
       "32"
      ]
     },
     "execution_count": 345,
     "metadata": {},
     "output_type": "execute_result"
    }
   ],
   "source": [
    "average"
   ]
  },
  {
   "cell_type": "code",
   "execution_count": 135,
   "metadata": {},
   "outputs": [],
   "source": [
    "for i in range(len(popularity_list)):\n",
    "    if(popularity_list[i] == 0):\n",
    "        popularity_list[i] = average"
   ]
  },
  {
   "cell_type": "markdown",
   "metadata": {},
   "source": [
    "**Append popularity column to unique tracks csv file**"
   ]
  },
  {
   "cell_type": "code",
   "execution_count": 136,
   "metadata": {},
   "outputs": [],
   "source": [
    "tracks['popularity'] = popularity_list"
   ]
  },
  {
   "cell_type": "code",
   "execution_count": 137,
   "metadata": {},
   "outputs": [
    {
     "data": {
      "text/html": [
       "<div>\n",
       "<style scoped>\n",
       "    .dataframe tbody tr th:only-of-type {\n",
       "        vertical-align: middle;\n",
       "    }\n",
       "\n",
       "    .dataframe tbody tr th {\n",
       "        vertical-align: top;\n",
       "    }\n",
       "\n",
       "    .dataframe thead th {\n",
       "        text-align: right;\n",
       "    }\n",
       "</style>\n",
       "<table border=\"1\" class=\"dataframe\">\n",
       "  <thead>\n",
       "    <tr style=\"text-align: right;\">\n",
       "      <th></th>\n",
       "      <th>track_uri</th>\n",
       "      <th>track_name</th>\n",
       "      <th>artist_name</th>\n",
       "      <th>popularity</th>\n",
       "    </tr>\n",
       "  </thead>\n",
       "  <tbody>\n",
       "    <tr>\n",
       "      <th>0</th>\n",
       "      <td>spotify:track:0UaMYEvWZi0ZqiDOoHU3YI</td>\n",
       "      <td>Lose Control (feat. Ciara &amp; Fat Man Scoop)</td>\n",
       "      <td>Missy Elliott</td>\n",
       "      <td>67</td>\n",
       "    </tr>\n",
       "    <tr>\n",
       "      <th>1</th>\n",
       "      <td>spotify:track:6I9VzXrHxO9rA9A5euc8Ak</td>\n",
       "      <td>Toxic</td>\n",
       "      <td>Britney Spears</td>\n",
       "      <td>79</td>\n",
       "    </tr>\n",
       "    <tr>\n",
       "      <th>2</th>\n",
       "      <td>spotify:track:0WqIKmW4BTrj3eJFmnCKMv</td>\n",
       "      <td>Crazy In Love</td>\n",
       "      <td>Beyoncé</td>\n",
       "      <td>24</td>\n",
       "    </tr>\n",
       "    <tr>\n",
       "      <th>3</th>\n",
       "      <td>spotify:track:1AWQoqb9bSvzTjaLralEkT</td>\n",
       "      <td>Rock Your Body</td>\n",
       "      <td>Justin Timberlake</td>\n",
       "      <td>72</td>\n",
       "    </tr>\n",
       "    <tr>\n",
       "      <th>4</th>\n",
       "      <td>spotify:track:1lzr43nnXAijIGYnCT8M8H</td>\n",
       "      <td>It Wasn't Me</td>\n",
       "      <td>Shaggy</td>\n",
       "      <td>38</td>\n",
       "    </tr>\n",
       "  </tbody>\n",
       "</table>\n",
       "</div>"
      ],
      "text/plain": [
       "                              track_uri  \\\n",
       "0  spotify:track:0UaMYEvWZi0ZqiDOoHU3YI   \n",
       "1  spotify:track:6I9VzXrHxO9rA9A5euc8Ak   \n",
       "2  spotify:track:0WqIKmW4BTrj3eJFmnCKMv   \n",
       "3  spotify:track:1AWQoqb9bSvzTjaLralEkT   \n",
       "4  spotify:track:1lzr43nnXAijIGYnCT8M8H   \n",
       "\n",
       "                                   track_name        artist_name  popularity  \n",
       "0  Lose Control (feat. Ciara & Fat Man Scoop)      Missy Elliott          67  \n",
       "1                                       Toxic     Britney Spears          79  \n",
       "2                               Crazy In Love            Beyoncé          24  \n",
       "3                              Rock Your Body  Justin Timberlake          72  \n",
       "4                                It Wasn't Me             Shaggy          38  "
      ]
     },
     "execution_count": 137,
     "metadata": {},
     "output_type": "execute_result"
    }
   ],
   "source": [
    "tracks.head()"
   ]
  },
  {
   "cell_type": "code",
   "execution_count": 138,
   "metadata": {},
   "outputs": [],
   "source": [
    "tracks.to_csv(f'D:\\schule\\diplomarbeit\\converted_csv\\mpd_slice_0-1999_tracks_with_popularity_average.csv', index=False)"
   ]
  },
  {
   "cell_type": "markdown",
   "metadata": {},
   "source": [
    "**Modify rating in mpd dataset based on popularity**"
   ]
  },
  {
   "cell_type": "code",
   "execution_count": 139,
   "metadata": {},
   "outputs": [],
   "source": [
    "mpd_csv_file = \"D:\\schule\\diplomarbeit\\converted_csv\\mpd_slice_0-1999.csv\""
   ]
  },
  {
   "cell_type": "code",
   "execution_count": 140,
   "metadata": {
    "scrolled": true
   },
   "outputs": [
    {
     "data": {
      "text/html": [
       "<div>\n",
       "<style scoped>\n",
       "    .dataframe tbody tr th:only-of-type {\n",
       "        vertical-align: middle;\n",
       "    }\n",
       "\n",
       "    .dataframe tbody tr th {\n",
       "        vertical-align: top;\n",
       "    }\n",
       "\n",
       "    .dataframe thead th {\n",
       "        text-align: right;\n",
       "    }\n",
       "</style>\n",
       "<table border=\"1\" class=\"dataframe\">\n",
       "  <thead>\n",
       "    <tr style=\"text-align: right;\">\n",
       "      <th></th>\n",
       "      <th>pid</th>\n",
       "      <th>track_uri</th>\n",
       "      <th>rating</th>\n",
       "      <th>playlist_name</th>\n",
       "      <th>track_name</th>\n",
       "      <th>artist_name</th>\n",
       "    </tr>\n",
       "  </thead>\n",
       "  <tbody>\n",
       "    <tr>\n",
       "      <th>0</th>\n",
       "      <td>0</td>\n",
       "      <td>spotify:track:0UaMYEvWZi0ZqiDOoHU3YI</td>\n",
       "      <td>1</td>\n",
       "      <td>Throwbacks</td>\n",
       "      <td>Lose Control (feat. Ciara &amp; Fat Man Scoop)</td>\n",
       "      <td>Missy Elliott</td>\n",
       "    </tr>\n",
       "    <tr>\n",
       "      <th>1</th>\n",
       "      <td>0</td>\n",
       "      <td>spotify:track:6I9VzXrHxO9rA9A5euc8Ak</td>\n",
       "      <td>1</td>\n",
       "      <td>Throwbacks</td>\n",
       "      <td>Toxic</td>\n",
       "      <td>Britney Spears</td>\n",
       "    </tr>\n",
       "    <tr>\n",
       "      <th>2</th>\n",
       "      <td>0</td>\n",
       "      <td>spotify:track:0WqIKmW4BTrj3eJFmnCKMv</td>\n",
       "      <td>1</td>\n",
       "      <td>Throwbacks</td>\n",
       "      <td>Crazy In Love</td>\n",
       "      <td>Beyoncé</td>\n",
       "    </tr>\n",
       "    <tr>\n",
       "      <th>3</th>\n",
       "      <td>0</td>\n",
       "      <td>spotify:track:1AWQoqb9bSvzTjaLralEkT</td>\n",
       "      <td>1</td>\n",
       "      <td>Throwbacks</td>\n",
       "      <td>Rock Your Body</td>\n",
       "      <td>Justin Timberlake</td>\n",
       "    </tr>\n",
       "    <tr>\n",
       "      <th>4</th>\n",
       "      <td>0</td>\n",
       "      <td>spotify:track:1lzr43nnXAijIGYnCT8M8H</td>\n",
       "      <td>1</td>\n",
       "      <td>Throwbacks</td>\n",
       "      <td>It Wasn't Me</td>\n",
       "      <td>Shaggy</td>\n",
       "    </tr>\n",
       "  </tbody>\n",
       "</table>\n",
       "</div>"
      ],
      "text/plain": [
       "   pid                             track_uri  rating playlist_name  \\\n",
       "0    0  spotify:track:0UaMYEvWZi0ZqiDOoHU3YI       1    Throwbacks   \n",
       "1    0  spotify:track:6I9VzXrHxO9rA9A5euc8Ak       1    Throwbacks   \n",
       "2    0  spotify:track:0WqIKmW4BTrj3eJFmnCKMv       1    Throwbacks   \n",
       "3    0  spotify:track:1AWQoqb9bSvzTjaLralEkT       1    Throwbacks   \n",
       "4    0  spotify:track:1lzr43nnXAijIGYnCT8M8H       1    Throwbacks   \n",
       "\n",
       "                                   track_name        artist_name  \n",
       "0  Lose Control (feat. Ciara & Fat Man Scoop)      Missy Elliott  \n",
       "1                                       Toxic     Britney Spears  \n",
       "2                               Crazy In Love            Beyoncé  \n",
       "3                              Rock Your Body  Justin Timberlake  \n",
       "4                                It Wasn't Me             Shaggy  "
      ]
     },
     "execution_count": 140,
     "metadata": {},
     "output_type": "execute_result"
    }
   ],
   "source": [
    "playlists = pd.read_csv(mpd_csv_file, delimiter=',', encoding='utf-8', header=None, low_memory=False,\n",
    "                       names=['pid','track_uri','rating','playlist_name','track_name','artist_name'], skiprows=1)\n",
    "playlists.head()"
   ]
  },
  {
   "cell_type": "code",
   "execution_count": 146,
   "metadata": {},
   "outputs": [],
   "source": [
    "unique_tracks_population_file = \"D:\\\\schule\\\\diplomarbeit\\\\converted_csv\\\\unique_tracks_with_popularity_average_0-1999.csv\""
   ]
  },
  {
   "cell_type": "code",
   "execution_count": 147,
   "metadata": {
    "scrolled": true
   },
   "outputs": [
    {
     "data": {
      "text/html": [
       "<div>\n",
       "<style scoped>\n",
       "    .dataframe tbody tr th:only-of-type {\n",
       "        vertical-align: middle;\n",
       "    }\n",
       "\n",
       "    .dataframe tbody tr th {\n",
       "        vertical-align: top;\n",
       "    }\n",
       "\n",
       "    .dataframe thead th {\n",
       "        text-align: right;\n",
       "    }\n",
       "</style>\n",
       "<table border=\"1\" class=\"dataframe\">\n",
       "  <thead>\n",
       "    <tr style=\"text-align: right;\">\n",
       "      <th></th>\n",
       "      <th>track_uri</th>\n",
       "      <th>track_name</th>\n",
       "      <th>artist_name</th>\n",
       "      <th>popularity</th>\n",
       "    </tr>\n",
       "  </thead>\n",
       "  <tbody>\n",
       "    <tr>\n",
       "      <th>0</th>\n",
       "      <td>spotify:track:0UaMYEvWZi0ZqiDOoHU3YI</td>\n",
       "      <td>Lose Control (feat. Ciara &amp; Fat Man Scoop)</td>\n",
       "      <td>Missy Elliott</td>\n",
       "      <td>67</td>\n",
       "    </tr>\n",
       "    <tr>\n",
       "      <th>1</th>\n",
       "      <td>spotify:track:6I9VzXrHxO9rA9A5euc8Ak</td>\n",
       "      <td>Toxic</td>\n",
       "      <td>Britney Spears</td>\n",
       "      <td>79</td>\n",
       "    </tr>\n",
       "    <tr>\n",
       "      <th>2</th>\n",
       "      <td>spotify:track:0WqIKmW4BTrj3eJFmnCKMv</td>\n",
       "      <td>Crazy In Love</td>\n",
       "      <td>Beyoncé</td>\n",
       "      <td>24</td>\n",
       "    </tr>\n",
       "    <tr>\n",
       "      <th>3</th>\n",
       "      <td>spotify:track:1AWQoqb9bSvzTjaLralEkT</td>\n",
       "      <td>Rock Your Body</td>\n",
       "      <td>Justin Timberlake</td>\n",
       "      <td>72</td>\n",
       "    </tr>\n",
       "    <tr>\n",
       "      <th>4</th>\n",
       "      <td>spotify:track:1lzr43nnXAijIGYnCT8M8H</td>\n",
       "      <td>It Wasn't Me</td>\n",
       "      <td>Shaggy</td>\n",
       "      <td>38</td>\n",
       "    </tr>\n",
       "  </tbody>\n",
       "</table>\n",
       "</div>"
      ],
      "text/plain": [
       "                              track_uri  \\\n",
       "0  spotify:track:0UaMYEvWZi0ZqiDOoHU3YI   \n",
       "1  spotify:track:6I9VzXrHxO9rA9A5euc8Ak   \n",
       "2  spotify:track:0WqIKmW4BTrj3eJFmnCKMv   \n",
       "3  spotify:track:1AWQoqb9bSvzTjaLralEkT   \n",
       "4  spotify:track:1lzr43nnXAijIGYnCT8M8H   \n",
       "\n",
       "                                   track_name        artist_name  popularity  \n",
       "0  Lose Control (feat. Ciara & Fat Man Scoop)      Missy Elliott          67  \n",
       "1                                       Toxic     Britney Spears          79  \n",
       "2                               Crazy In Love            Beyoncé          24  \n",
       "3                              Rock Your Body  Justin Timberlake          72  \n",
       "4                                It Wasn't Me             Shaggy          38  "
      ]
     },
     "execution_count": 147,
     "metadata": {},
     "output_type": "execute_result"
    }
   ],
   "source": [
    "tracks = pd.read_csv(unique_tracks_population_file, delimiter=',', encoding='utf-8', header=None, low_memory=False,\n",
    "                       names=['track_uri','track_name','artist_name', 'popularity'], skiprows=1)\n",
    "tracks.head()"
   ]
  },
  {
   "cell_type": "code",
   "execution_count": null,
   "metadata": {},
   "outputs": [],
   "source": [
    "popularity_list_mpd = []\n",
    "for index, row in playlists[:50000].iterrows():\n",
    "    popularity = list(tracks.loc[tracks['track_uri'] == row['track_uri']]['population'])[0]\n",
    "    popularity_list_mpd.append(popularity)\n",
    "len(popularity_list_mpd)"
   ]
  },
  {
   "cell_type": "code",
   "execution_count": 148,
   "metadata": {},
   "outputs": [
    {
     "data": {
      "text/plain": [
       "(57884, 134125)"
      ]
     },
     "execution_count": 148,
     "metadata": {},
     "output_type": "execute_result"
    }
   ],
   "source": [
    "len(tracks), len(playlists)"
   ]
  },
  {
   "cell_type": "code",
   "execution_count": 108,
   "metadata": {},
   "outputs": [],
   "source": [
    "playlists['popularity'] = popularity_list_mpd"
   ]
  },
  {
   "cell_type": "code",
   "execution_count": null,
   "metadata": {},
   "outputs": [],
   "source": [
    "playlists[:20]"
   ]
  },
  {
   "cell_type": "code",
   "execution_count": 89,
   "metadata": {},
   "outputs": [],
   "source": [
    "for index, row in tracks[:1000].iterrows():\n",
    "    #print(row['track_urit\n",
    "    found_rows = playlists.index[playlists['track_uri'] == row['track_uri']].tolist()\n",
    "    for found_row in found_rows:\n",
    "        playlists.at[found_row, 'popularity'] = 1"
   ]
  },
  {
   "cell_type": "code",
   "execution_count": 149,
   "metadata": {},
   "outputs": [],
   "source": [
    "for index, row in tracks.iterrows():\n",
    "    playlists.loc[playlists['track_uri'] == row['track_uri'], ['rating']] = row['popularity']"
   ]
  },
  {
   "cell_type": "code",
   "execution_count": 150,
   "metadata": {},
   "outputs": [],
   "source": [
    "playlists.to_csv(f'D:\\schule\\diplomarbeit\\converted_csv\\mpd_slice_0-{n_playlists-1}_popularity_average.csv', index=False)"
   ]
  },
  {
   "cell_type": "markdown",
   "metadata": {},
   "source": [
    "# Testing"
   ]
  },
  {
   "cell_type": "code",
   "execution_count": 3,
   "metadata": {},
   "outputs": [],
   "source": [
    "path = \"D:\\schule\\diplomarbeit\\MPD\\MPD\\mpd.slice.0-999.json\""
   ]
  },
  {
   "cell_type": "code",
   "execution_count": 13,
   "metadata": {},
   "outputs": [],
   "source": [
    "f = open(path)\n",
    "js = f.read()\n",
    "f.close()\n",
    "mpd_slice = json.loads(js)"
   ]
  },
  {
   "cell_type": "code",
   "execution_count": 40,
   "metadata": {},
   "outputs": [
    {
     "data": {
      "text/plain": [
       "1000"
      ]
     },
     "execution_count": 40,
     "metadata": {},
     "output_type": "execute_result"
    }
   ],
   "source": [
    "len(mpd_slice['playlists'])"
   ]
  },
  {
   "cell_type": "code",
   "execution_count": null,
   "metadata": {},
   "outputs": [],
   "source": [
    "playlist_names = (playlist['name'] for playlist in playlists)\n",
    "for playlist in playlist_names:\n",
    "    print(playlist)"
   ]
  },
  {
   "cell_type": "code",
   "execution_count": null,
   "metadata": {},
   "outputs": [],
   "source": [
    "playlists = list()\n",
    "for x in range(0, 10000, 1000):\n",
    "    playlists = mpd_slice['playlists'][x:x+1000]\n",
    "    with open('mpd_file10000.csv', mode='a', encoding='utf-8') as mpd_file:\n",
    "        writer = csv.writer(mpd_file, delimiter=',', quotechar='\"', quoting=csv.QUOTE_MINIMAL)\n",
    "        print(playlists[1])\n",
    "        for playlist in playlists:\n",
    "            playlist_name = playlist['name']\n",
    "            for track in playlist['tracks']:\n",
    "                track_name = track['track_name']\n",
    "                writer.writerow([playlist_name, track_name, 1])\n"
   ]
  },
  {
   "cell_type": "code",
   "execution_count": 14,
   "metadata": {},
   "outputs": [],
   "source": [
    "del mpd_slice['info']\n",
    "for playlist in mpd_slice['playlists']:\n",
    "    del playlist['collaborative']\n",
    "    del playlist['modified_at']\n",
    "\n",
    "with open('shrinked_mpd_test.json', 'w') as f:\n",
    "    json.dump(mpd_slice, f)"
   ]
  },
  {
   "cell_type": "code",
   "execution_count": 20,
   "metadata": {},
   "outputs": [
    {
     "data": {
      "text/plain": [
       "2"
      ]
     },
     "execution_count": 20,
     "metadata": {},
     "output_type": "execute_result"
    }
   ],
   "source": [
    "path = f'{path_base}\\mpd.slice.0-999.json'\n",
    "d = json.load(open(path, 'r'))\n",
    "tracks = list(d['playlists'][0]['tracks'])\n",
    "artist_uri = 'spotify:artist:23zg3TcAtWQy7J6upgbUnj'\n",
    "count_artist = len(list((track['artist_uri'] for track in tracks if track['artist_uri'] == artist_uri)))\n",
    "count_artist"
   ]
  },
  {
   "cell_type": "code",
   "execution_count": 23,
   "metadata": {},
   "outputs": [],
   "source": [
    "artist_playlist_rows = []\n",
    "for i in range(0, 1000, 1000):\n",
    "    path = f'{path_base}\\mpd.slice.{i}-{i+999}.json'\n",
    "    d = json.load(open(path, 'r'))\n",
    "    mpd_slice = pd.DataFrame.from_dict(d['playlists'], orient='columns')\n",
    "    for index, row in mpd_slice.iterrows():\n",
    "        tracks = row['tracks']\n",
    "        for track in tracks:\n",
    "            artist_uri = track['artist_uri']\n",
    "            count = len(list((track_i['artist_uri'] for track_i in tracks if track_i['artist_uri'] == artist_uri)))\n",
    "            rating = 1 - (1 / (1 + count))\n",
    "            artist_playlist_rows.append([row['pid'], track['artist_uri'], rating, row['name'], track['artist_name'], track['track_uri'], track['track_name']])\n",
    "mpd_df = pd.DataFrame(artist_playlist_rows, columns=['pid', 'artist_uri', 'rating', 'playlist_name', 'artist_name', 'track_uri', 'track_name'])\n",
    "mpd_df.to_csv(f'D:\\\\schule\\\\diplomarbeit\\\\converted_csv\\\\testing_0-{n_playlists-1}.csv', index=False)"
   ]
  },
  {
   "cell_type": "code",
   "execution_count": null,
   "metadata": {},
   "outputs": [],
   "source": []
  }
 ],
 "metadata": {
  "kernelspec": {
   "display_name": "Python 3",
   "language": "python",
   "name": "python3"
  },
  "language_info": {
   "codemirror_mode": {
    "name": "ipython",
    "version": 3
   },
   "file_extension": ".py",
   "mimetype": "text/x-python",
   "name": "python",
   "nbconvert_exporter": "python",
   "pygments_lexer": "ipython3",
   "version": "3.8.5"
  }
 },
 "nbformat": 4,
 "nbformat_minor": 4
}
